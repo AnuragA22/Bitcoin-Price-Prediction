{
 "cells": [
  {
   "cell_type": "code",
   "execution_count": 1,
   "id": "d6fdedce",
   "metadata": {},
   "outputs": [],
   "source": [
    "import pandas as pd \n",
    "import numpy as np \n",
    "import matplotlib.pyplot as plt\n",
    "%matplotlib inline\n",
    "\n",
    "import warnings\n",
    "warnings.filterwarnings(\"ignore\")"
   ]
  },
  {
   "cell_type": "code",
   "execution_count": 2,
   "id": "c47b2ece",
   "metadata": {},
   "outputs": [],
   "source": [
    "from datetime import datetime\n",
    "import calendar\n",
    "from pylab import rcParams\n",
    "import statsmodels.api as sm"
   ]
  },
  {
   "cell_type": "code",
   "execution_count": 3,
   "id": "fd015c7e",
   "metadata": {},
   "outputs": [
    {
     "data": {
      "text/html": [
       "<div>\n",
       "<style scoped>\n",
       "    .dataframe tbody tr th:only-of-type {\n",
       "        vertical-align: middle;\n",
       "    }\n",
       "\n",
       "    .dataframe tbody tr th {\n",
       "        vertical-align: top;\n",
       "    }\n",
       "\n",
       "    .dataframe thead th {\n",
       "        text-align: right;\n",
       "    }\n",
       "</style>\n",
       "<table border=\"1\" class=\"dataframe\">\n",
       "  <thead>\n",
       "    <tr style=\"text-align: right;\">\n",
       "      <th></th>\n",
       "      <th>Months</th>\n",
       "      <th>Price</th>\n",
       "    </tr>\n",
       "  </thead>\n",
       "  <tbody>\n",
       "    <tr>\n",
       "      <th>0</th>\n",
       "      <td>0</td>\n",
       "      <td>217.4</td>\n",
       "    </tr>\n",
       "    <tr>\n",
       "      <th>1</th>\n",
       "      <td>1</td>\n",
       "      <td>255.7</td>\n",
       "    </tr>\n",
       "    <tr>\n",
       "      <th>2</th>\n",
       "      <td>2</td>\n",
       "      <td>244.3</td>\n",
       "    </tr>\n",
       "    <tr>\n",
       "      <th>3</th>\n",
       "      <td>3</td>\n",
       "      <td>236.1</td>\n",
       "    </tr>\n",
       "    <tr>\n",
       "      <th>4</th>\n",
       "      <td>4</td>\n",
       "      <td>228.7</td>\n",
       "    </tr>\n",
       "  </tbody>\n",
       "</table>\n",
       "</div>"
      ],
      "text/plain": [
       "   Months  Price\n",
       "0       0  217.4\n",
       "1       1  255.7\n",
       "2       2  244.3\n",
       "3       3  236.1\n",
       "4       4  228.7"
      ]
     },
     "execution_count": 3,
     "metadata": {},
     "output_type": "execute_result"
    }
   ],
   "source": [
    "data = pd.read_csv('bitcoin.csv')\n",
    "\n",
    "data.head()"
   ]
  },
  {
   "cell_type": "code",
   "execution_count": 4,
   "id": "e7db435c",
   "metadata": {},
   "outputs": [
    {
     "data": {
      "text/html": [
       "<div>\n",
       "<style scoped>\n",
       "    .dataframe tbody tr th:only-of-type {\n",
       "        vertical-align: middle;\n",
       "    }\n",
       "\n",
       "    .dataframe tbody tr th {\n",
       "        vertical-align: top;\n",
       "    }\n",
       "\n",
       "    .dataframe thead th {\n",
       "        text-align: right;\n",
       "    }\n",
       "</style>\n",
       "<table border=\"1\" class=\"dataframe\">\n",
       "  <thead>\n",
       "    <tr style=\"text-align: right;\">\n",
       "      <th></th>\n",
       "      <th>Months</th>\n",
       "      <th>Price</th>\n",
       "    </tr>\n",
       "  </thead>\n",
       "  <tbody>\n",
       "    <tr>\n",
       "      <th>0</th>\n",
       "      <td>2018-01-01</td>\n",
       "      <td>217.4</td>\n",
       "    </tr>\n",
       "    <tr>\n",
       "      <th>1</th>\n",
       "      <td>2018-02-01</td>\n",
       "      <td>255.7</td>\n",
       "    </tr>\n",
       "    <tr>\n",
       "      <th>2</th>\n",
       "      <td>2018-03-01</td>\n",
       "      <td>244.3</td>\n",
       "    </tr>\n",
       "    <tr>\n",
       "      <th>3</th>\n",
       "      <td>2018-04-01</td>\n",
       "      <td>236.1</td>\n",
       "    </tr>\n",
       "    <tr>\n",
       "      <th>4</th>\n",
       "      <td>2018-05-01</td>\n",
       "      <td>228.7</td>\n",
       "    </tr>\n",
       "  </tbody>\n",
       "</table>\n",
       "</div>"
      ],
      "text/plain": [
       "       Months  Price\n",
       "0  2018-01-01  217.4\n",
       "1  2018-02-01  255.7\n",
       "2  2018-03-01  244.3\n",
       "3  2018-04-01  236.1\n",
       "4  2018-05-01  228.7"
      ]
     },
     "execution_count": 4,
     "metadata": {},
     "output_type": "execute_result"
    }
   ],
   "source": [
    "from datetime import date\n",
    "from dateutil.relativedelta import relativedelta\n",
    "for i in range(0,len(data.Months)):\n",
    "    data.Months[i] = date(2018,1,1) + relativedelta(months=+i)\n",
    "\n",
    "data.head()"
   ]
  },
  {
   "cell_type": "code",
   "execution_count": 5,
   "id": "19e0d009",
   "metadata": {},
   "outputs": [
    {
     "data": {
      "text/html": [
       "<div>\n",
       "<style scoped>\n",
       "    .dataframe tbody tr th:only-of-type {\n",
       "        vertical-align: middle;\n",
       "    }\n",
       "\n",
       "    .dataframe tbody tr th {\n",
       "        vertical-align: top;\n",
       "    }\n",
       "\n",
       "    .dataframe thead th {\n",
       "        text-align: right;\n",
       "    }\n",
       "</style>\n",
       "<table border=\"1\" class=\"dataframe\">\n",
       "  <thead>\n",
       "    <tr style=\"text-align: right;\">\n",
       "      <th></th>\n",
       "      <th>Price</th>\n",
       "    </tr>\n",
       "    <tr>\n",
       "      <th>Months</th>\n",
       "      <th></th>\n",
       "    </tr>\n",
       "  </thead>\n",
       "  <tbody>\n",
       "    <tr>\n",
       "      <th>2018-01-01</th>\n",
       "      <td>217.4</td>\n",
       "    </tr>\n",
       "    <tr>\n",
       "      <th>2018-02-01</th>\n",
       "      <td>255.7</td>\n",
       "    </tr>\n",
       "    <tr>\n",
       "      <th>2018-03-01</th>\n",
       "      <td>244.3</td>\n",
       "    </tr>\n",
       "    <tr>\n",
       "      <th>2018-04-01</th>\n",
       "      <td>236.1</td>\n",
       "    </tr>\n",
       "    <tr>\n",
       "      <th>2018-05-01</th>\n",
       "      <td>228.7</td>\n",
       "    </tr>\n",
       "  </tbody>\n",
       "</table>\n",
       "</div>"
      ],
      "text/plain": [
       "            Price\n",
       "Months           \n",
       "2018-01-01  217.4\n",
       "2018-02-01  255.7\n",
       "2018-03-01  244.3\n",
       "2018-04-01  236.1\n",
       "2018-05-01  228.7"
      ]
     },
     "execution_count": 5,
     "metadata": {},
     "output_type": "execute_result"
    }
   ],
   "source": [
    "data = data.set_index('Months')\n",
    "data.head()"
   ]
  },
  {
   "cell_type": "markdown",
   "id": "e740b456",
   "metadata": {},
   "source": [
    "### Plot time series data"
   ]
  },
  {
   "cell_type": "code",
   "execution_count": 6,
   "id": "20b4590b",
   "metadata": {},
   "outputs": [
    {
     "data": {
      "image/png": "[encoded data removed]",
      "text/plain": [
       "<Figure size 864x288 with 1 Axes>"
      ]
     },
     "metadata": {
      "needs_background": "light"
     },
     "output_type": "display_data"
    }
   ],
   "source": [
    "data.plot(figsize=(12, 4))\n",
    "plt.grid()\n",
    "plt.legend(loc='best')\n",
    "plt.title('Price')\n",
    "plt.show(block=False)"
   ]
  },
  {
   "cell_type": "code",
   "execution_count": 7,
   "id": "76f0a380",
   "metadata": {},
   "outputs": [
    {
     "data": {
      "text/plain": [
       "Price    0\n",
       "dtype: int64"
      ]
     },
     "execution_count": 7,
     "metadata": {},
     "output_type": "execute_result"
    }
   ],
   "source": [
    "data.isnull().sum()"
   ]
  },
  {
   "cell_type": "markdown",
   "id": "c030685f",
   "metadata": {},
   "source": [
    "##### No missing data"
   ]
  },
  {
   "cell_type": "markdown",
   "id": "eb73022b",
   "metadata": {},
   "source": [
    "### Outlier detection"
   ]
  },
  {
   "cell_type": "markdown",
   "id": "2a497e9c",
   "metadata": {},
   "source": [
    "#### Box plot and interquartile range"
   ]
  },
  {
   "cell_type": "code",
   "execution_count": 8,
   "id": "282c2452",
   "metadata": {},
   "outputs": [
    {
     "data": {
      "image/png": "[encoded data removed]",
      "text/plain": [
       "<Figure size 864x144 with 1 Axes>"
      ]
     },
     "metadata": {
      "needs_background": "light"
     },
     "output_type": "display_data"
    }
   ],
   "source": [
    "import seaborn as sns\n",
    "fig = plt.subplots(figsize=(12, 2))\n",
    "ax = sns.boxplot(x=data['Price'], whis=1.5)"
   ]
  },
  {
   "cell_type": "markdown",
   "id": "0d8db7f9",
   "metadata": {},
   "source": [
    "#### Histogram plot"
   ]
  },
  {
   "cell_type": "code",
   "execution_count": 9,
   "id": "9e1fe760",
   "metadata": {},
   "outputs": [
    {
     "data": {
      "image/png": "[encoded data removed]",
      "text/plain": [
       "<Figure size 864x288 with 1 Axes>"
      ]
     },
     "metadata": {
      "needs_background": "light"
     },
     "output_type": "display_data"
    }
   ],
   "source": [
    "fig = data.Price.hist(figsize = (12,4))"
   ]
  },
  {
   "cell_type": "code",
   "execution_count": null,
   "id": "c0e3cda0",
   "metadata": {},
   "outputs": [],
   "source": []
  },
  {
   "cell_type": "markdown",
   "id": "4397f302",
   "metadata": {},
   "source": [
    "## Build and evaluate time series forecast"
   ]
  },
  {
   "cell_type": "markdown",
   "id": "987eeae8",
   "metadata": {},
   "source": [
    "### Split time series data into training and test set"
   ]
  },
  {
   "cell_type": "code",
   "execution_count": 10,
   "id": "ecc567bb",
   "metadata": {},
   "outputs": [],
   "source": [
    "train_len = 29\n",
    "train = data[0:train_len] \n",
    "test = data[train_len:] "
   ]
  },
  {
   "cell_type": "code",
   "execution_count": null,
   "id": "6a4ee59f",
   "metadata": {},
   "outputs": [],
   "source": []
  },
  {
   "cell_type": "markdown",
   "id": "4f97af2a",
   "metadata": {},
   "source": [
    "### Naive method"
   ]
  },
  {
   "cell_type": "code",
   "execution_count": 11,
   "id": "beb96e42",
   "metadata": {},
   "outputs": [],
   "source": [
    "y_hat_naive = test.copy()\n",
    "y_hat_naive['naive_forecast'] = train['Price'][train_len-1]"
   ]
  },
  {
   "cell_type": "code",
   "execution_count": 12,
   "id": "01aeb79d",
   "metadata": {},
   "outputs": [
    {
     "data": {
      "image/png": "[encoded data removed]",
      "text/plain": [
       "<Figure size 864x288 with 1 Axes>"
      ]
     },
     "metadata": {
      "needs_background": "light"
     },
     "output_type": "display_data"
    }
   ],
   "source": [
    "plt.figure(figsize=(12,4))\n",
    "plt.grid()\n",
    "plt.plot(train['Price'], label='Train')\n",
    "plt.plot(test['Price'], label='Test')\n",
    "plt.plot(y_hat_naive['naive_forecast'], label='Naive forecast')\n",
    "plt.legend(loc='best')\n",
    "plt.title('Naive Method')\n",
    "plt.show()"
   ]
  },
  {
   "cell_type": "markdown",
   "id": "fcf98bb6",
   "metadata": {},
   "source": [
    "### Calculate RMSE and MAPE"
   ]
  },
  {
   "cell_type": "code",
   "execution_count": 13,
   "id": "0e4754ee",
   "metadata": {},
   "outputs": [
    {
     "data": {
      "text/html": [
       "<div>\n",
       "<style scoped>\n",
       "    .dataframe tbody tr th:only-of-type {\n",
       "        vertical-align: middle;\n",
       "    }\n",
       "\n",
       "    .dataframe tbody tr th {\n",
       "        vertical-align: top;\n",
       "    }\n",
       "\n",
       "    .dataframe thead th {\n",
       "        text-align: right;\n",
       "    }\n",
       "</style>\n",
       "<table border=\"1\" class=\"dataframe\">\n",
       "  <thead>\n",
       "    <tr style=\"text-align: right;\">\n",
       "      <th></th>\n",
       "      <th>Method</th>\n",
       "      <th>RMSE</th>\n",
       "      <th>MAPE</th>\n",
       "    </tr>\n",
       "  </thead>\n",
       "  <tbody>\n",
       "    <tr>\n",
       "      <th>0</th>\n",
       "      <td>Naive method</td>\n",
       "      <td>1265.9</td>\n",
       "      <td>27.12</td>\n",
       "    </tr>\n",
       "  </tbody>\n",
       "</table>\n",
       "</div>"
      ],
      "text/plain": [
       "         Method    RMSE   MAPE\n",
       "0  Naive method  1265.9  27.12"
      ]
     },
     "execution_count": 13,
     "metadata": {},
     "output_type": "execute_result"
    }
   ],
   "source": [
    "from sklearn.metrics import mean_squared_error\n",
    "rmse = np.sqrt(mean_squared_error(test['Price'], y_hat_naive['naive_forecast'])).round(2)\n",
    "mape = np.round(np.mean(np.abs(test['Price']-y_hat_naive['naive_forecast'])/test['Price'])*100,2)\n",
    "\n",
    "results = pd.DataFrame({'Method':['Naive method'], 'MAPE': [mape], 'RMSE': [rmse]})\n",
    "results = results[['Method', 'RMSE', 'MAPE']]\n",
    "results"
   ]
  },
  {
   "cell_type": "markdown",
   "id": "1e179d82",
   "metadata": {},
   "source": [
    "### Simple average method"
   ]
  },
  {
   "cell_type": "code",
   "execution_count": 14,
   "id": "6afa6ff4",
   "metadata": {},
   "outputs": [],
   "source": [
    "y_hat_avg = test.copy()\n",
    "y_hat_avg['avg_forecast'] = train['Price'].mean()"
   ]
  },
  {
   "cell_type": "code",
   "execution_count": 15,
   "id": "7b178dc8",
   "metadata": {},
   "outputs": [
    {
     "data": {
      "image/png": "[encoded data removed]",
      "text/plain": [
       "<Figure size 864x288 with 1 Axes>"
      ]
     },
     "metadata": {
      "needs_background": "light"
     },
     "output_type": "display_data"
    }
   ],
   "source": [
    "plt.figure(figsize=(12,4))\n",
    "plt.grid()\n",
    "plt.plot(train['Price'], label='Train')\n",
    "plt.plot(test['Price'], label='Test')\n",
    "plt.plot(y_hat_avg['avg_forecast'], label='Simple average forecast')\n",
    "plt.legend(loc='best')\n",
    "plt.title('Simple Average Method')\n",
    "plt.show()"
   ]
  },
  {
   "cell_type": "code",
   "execution_count": 16,
   "id": "e0baf435",
   "metadata": {},
   "outputs": [],
   "source": [
    "### Calculate RMSE and MAPE"
   ]
  },
  {
   "cell_type": "code",
   "execution_count": 17,
   "id": "4d557baa",
   "metadata": {},
   "outputs": [
    {
     "data": {
      "text/html": [
       "<div>\n",
       "<style scoped>\n",
       "    .dataframe tbody tr th:only-of-type {\n",
       "        vertical-align: middle;\n",
       "    }\n",
       "\n",
       "    .dataframe tbody tr th {\n",
       "        vertical-align: top;\n",
       "    }\n",
       "\n",
       "    .dataframe thead th {\n",
       "        text-align: right;\n",
       "    }\n",
       "</style>\n",
       "<table border=\"1\" class=\"dataframe\">\n",
       "  <thead>\n",
       "    <tr style=\"text-align: right;\">\n",
       "      <th></th>\n",
       "      <th>Method</th>\n",
       "      <th>RMSE</th>\n",
       "      <th>MAPE</th>\n",
       "    </tr>\n",
       "  </thead>\n",
       "  <tbody>\n",
       "    <tr>\n",
       "      <th>0</th>\n",
       "      <td>Naive method</td>\n",
       "      <td>1265.90</td>\n",
       "      <td>27.12</td>\n",
       "    </tr>\n",
       "    <tr>\n",
       "      <th>0</th>\n",
       "      <td>Simple average method</td>\n",
       "      <td>2703.73</td>\n",
       "      <td>80.19</td>\n",
       "    </tr>\n",
       "  </tbody>\n",
       "</table>\n",
       "</div>"
      ],
      "text/plain": [
       "                  Method     RMSE   MAPE\n",
       "0           Naive method  1265.90  27.12\n",
       "0  Simple average method  2703.73  80.19"
      ]
     },
     "execution_count": 17,
     "metadata": {},
     "output_type": "execute_result"
    }
   ],
   "source": [
    "rmse = np.sqrt(mean_squared_error(test['Price'], y_hat_avg['avg_forecast'])).round(2)\n",
    "mape = np.round(np.mean(np.abs(test['Price']-y_hat_avg['avg_forecast'])/test['Price'])*100,2)\n",
    "\n",
    "tempResults = pd.DataFrame({'Method':['Simple average method'], 'RMSE': [rmse],'MAPE': [mape] })\n",
    "results = pd.concat([results, tempResults])\n",
    "results = results[['Method', 'RMSE', 'MAPE']]\n",
    "results"
   ]
  },
  {
   "cell_type": "code",
   "execution_count": null,
   "id": "af5a334c",
   "metadata": {},
   "outputs": [],
   "source": []
  },
  {
   "cell_type": "markdown",
   "id": "598306e9",
   "metadata": {},
   "source": [
    "### Simple moving average method -12"
   ]
  },
  {
   "cell_type": "code",
   "execution_count": 18,
   "id": "e6b31131",
   "metadata": {},
   "outputs": [],
   "source": [
    "y_hat_sma = data.copy()\n",
    "ma_window = 12\n",
    "y_hat_sma['sma_forecast-12'] = data['Price'].rolling(ma_window).mean()\n",
    "y_hat_sma['sma_forecast-12'][train_len:] = y_hat_sma['sma_forecast-12'][train_len-1]"
   ]
  },
  {
   "cell_type": "code",
   "execution_count": 19,
   "id": "59c01ec3",
   "metadata": {},
   "outputs": [
    {
     "data": {
      "image/png": "[encoded data removed]",
      "text/plain": [
       "<Figure size 864x288 with 1 Axes>"
      ]
     },
     "metadata": {
      "needs_background": "light"
     },
     "output_type": "display_data"
    }
   ],
   "source": [
    "plt.figure(figsize=(12,4))\n",
    "plt.grid()\n",
    "plt.plot(train['Price'], label='Train')\n",
    "plt.plot(test['Price'], label='Test')\n",
    "plt.plot(y_hat_sma['sma_forecast-12'], label='Simple moving average forecast-12')\n",
    "plt.legend(loc='best')\n",
    "plt.title('Simple Moving Average Method=12')\n",
    "plt.show()"
   ]
  },
  {
   "cell_type": "code",
   "execution_count": 20,
   "id": "0940d44d",
   "metadata": {},
   "outputs": [],
   "source": [
    "### Calculate RMSE and MAPE"
   ]
  },
  {
   "cell_type": "code",
   "execution_count": 21,
   "id": "649b4d5e",
   "metadata": {},
   "outputs": [
    {
     "data": {
      "text/html": [
       "<div>\n",
       "<style scoped>\n",
       "    .dataframe tbody tr th:only-of-type {\n",
       "        vertical-align: middle;\n",
       "    }\n",
       "\n",
       "    .dataframe tbody tr th {\n",
       "        vertical-align: top;\n",
       "    }\n",
       "\n",
       "    .dataframe thead th {\n",
       "        text-align: right;\n",
       "    }\n",
       "</style>\n",
       "<table border=\"1\" class=\"dataframe\">\n",
       "  <thead>\n",
       "    <tr style=\"text-align: right;\">\n",
       "      <th></th>\n",
       "      <th>Method</th>\n",
       "      <th>RMSE</th>\n",
       "      <th>MAPE</th>\n",
       "    </tr>\n",
       "  </thead>\n",
       "  <tbody>\n",
       "    <tr>\n",
       "      <th>0</th>\n",
       "      <td>Naive method</td>\n",
       "      <td>1265.90</td>\n",
       "      <td>27.12</td>\n",
       "    </tr>\n",
       "    <tr>\n",
       "      <th>0</th>\n",
       "      <td>Simple average method</td>\n",
       "      <td>2703.73</td>\n",
       "      <td>80.19</td>\n",
       "    </tr>\n",
       "    <tr>\n",
       "      <th>0</th>\n",
       "      <td>Simple moving average forecast=12</td>\n",
       "      <td>2338.94</td>\n",
       "      <td>67.42</td>\n",
       "    </tr>\n",
       "  </tbody>\n",
       "</table>\n",
       "</div>"
      ],
      "text/plain": [
       "                              Method     RMSE   MAPE\n",
       "0                       Naive method  1265.90  27.12\n",
       "0              Simple average method  2703.73  80.19\n",
       "0  Simple moving average forecast=12  2338.94  67.42"
      ]
     },
     "execution_count": 21,
     "metadata": {},
     "output_type": "execute_result"
    }
   ],
   "source": [
    "rmse = np.sqrt(mean_squared_error(test['Price'], y_hat_sma['sma_forecast-12'][train_len:])).round(2)\n",
    "mape = np.round(np.mean(np.abs(test['Price']-y_hat_sma['sma_forecast-12'][train_len:])/test['Price'])*100,2)\n",
    "\n",
    "tempResults = pd.DataFrame({'Method':['Simple moving average forecast=12'], 'RMSE': [rmse],'MAPE': [mape] })\n",
    "results = pd.concat([results, tempResults])\n",
    "results = results[['Method', 'RMSE', 'MAPE']]\n",
    "results"
   ]
  },
  {
   "cell_type": "code",
   "execution_count": null,
   "id": "769e7acc",
   "metadata": {},
   "outputs": [],
   "source": []
  },
  {
   "cell_type": "markdown",
   "id": "9dbf6771",
   "metadata": {},
   "source": [
    "### Simple moving average method -6"
   ]
  },
  {
   "cell_type": "code",
   "execution_count": 22,
   "id": "f90340b7",
   "metadata": {},
   "outputs": [],
   "source": [
    "y_hat_sma = data.copy()\n",
    "ma_window = 6\n",
    "y_hat_sma['sma_forecast-6'] = data['Price'].rolling(ma_window).mean()\n",
    "y_hat_sma['sma_forecast-6'][train_len:] = y_hat_sma['sma_forecast-6'][train_len-1]"
   ]
  },
  {
   "cell_type": "code",
   "execution_count": 23,
   "id": "268fb4ce",
   "metadata": {},
   "outputs": [
    {
     "data": {
      "image/png": "[encoded data removed]",
      "text/plain": [
       "<Figure size 864x288 with 1 Axes>"
      ]
     },
     "metadata": {
      "needs_background": "light"
     },
     "output_type": "display_data"
    }
   ],
   "source": [
    "plt.figure(figsize=(12,4))\n",
    "plt.grid()\n",
    "plt.plot(train['Price'], label='Train')\n",
    "plt.plot(test['Price'], label='Test')\n",
    "plt.plot(y_hat_sma['sma_forecast-6'], label='Simple moving average forecast-6')\n",
    "plt.legend(loc='best')\n",
    "plt.title('Simple Moving Average Method-6')\n",
    "plt.show()"
   ]
  },
  {
   "cell_type": "code",
   "execution_count": 24,
   "id": "16e66990",
   "metadata": {},
   "outputs": [],
   "source": [
    "### Calculate RMSE and MAPE"
   ]
  },
  {
   "cell_type": "code",
   "execution_count": 25,
   "id": "b90469b3",
   "metadata": {},
   "outputs": [
    {
     "data": {
      "text/html": [
       "<div>\n",
       "<style scoped>\n",
       "    .dataframe tbody tr th:only-of-type {\n",
       "        vertical-align: middle;\n",
       "    }\n",
       "\n",
       "    .dataframe tbody tr th {\n",
       "        vertical-align: top;\n",
       "    }\n",
       "\n",
       "    .dataframe thead th {\n",
       "        text-align: right;\n",
       "    }\n",
       "</style>\n",
       "<table border=\"1\" class=\"dataframe\">\n",
       "  <thead>\n",
       "    <tr style=\"text-align: right;\">\n",
       "      <th></th>\n",
       "      <th>Method</th>\n",
       "      <th>RMSE</th>\n",
       "      <th>MAPE</th>\n",
       "    </tr>\n",
       "  </thead>\n",
       "  <tbody>\n",
       "    <tr>\n",
       "      <th>0</th>\n",
       "      <td>Naive method</td>\n",
       "      <td>1265.90</td>\n",
       "      <td>27.12</td>\n",
       "    </tr>\n",
       "    <tr>\n",
       "      <th>0</th>\n",
       "      <td>Simple average method</td>\n",
       "      <td>2703.73</td>\n",
       "      <td>80.19</td>\n",
       "    </tr>\n",
       "    <tr>\n",
       "      <th>0</th>\n",
       "      <td>Simple moving average forecast=12</td>\n",
       "      <td>2338.94</td>\n",
       "      <td>67.42</td>\n",
       "    </tr>\n",
       "    <tr>\n",
       "      <th>0</th>\n",
       "      <td>Simple moving average forecast-6</td>\n",
       "      <td>2035.79</td>\n",
       "      <td>56.61</td>\n",
       "    </tr>\n",
       "  </tbody>\n",
       "</table>\n",
       "</div>"
      ],
      "text/plain": [
       "                              Method     RMSE   MAPE\n",
       "0                       Naive method  1265.90  27.12\n",
       "0              Simple average method  2703.73  80.19\n",
       "0  Simple moving average forecast=12  2338.94  67.42\n",
       "0   Simple moving average forecast-6  2035.79  56.61"
      ]
     },
     "execution_count": 25,
     "metadata": {},
     "output_type": "execute_result"
    }
   ],
   "source": [
    "rmse = np.sqrt(mean_squared_error(test['Price'], y_hat_sma['sma_forecast-6'][train_len:])).round(2)\n",
    "mape = np.round(np.mean(np.abs(test['Price']-y_hat_sma['sma_forecast-6'][train_len:])/test['Price'])*100,2)\n",
    "\n",
    "tempResults = pd.DataFrame({'Method':['Simple moving average forecast-6'], 'RMSE': [rmse],'MAPE': [mape] })\n",
    "results = pd.concat([results, tempResults])\n",
    "results = results[['Method', 'RMSE', 'MAPE']]\n",
    "results"
   ]
  },
  {
   "cell_type": "code",
   "execution_count": null,
   "id": "7b03eda7",
   "metadata": {},
   "outputs": [],
   "source": []
  },
  {
   "cell_type": "markdown",
   "id": "ab222008",
   "metadata": {},
   "source": [
    "### Simple moving average method -3"
   ]
  },
  {
   "cell_type": "code",
   "execution_count": 26,
   "id": "0af98a89",
   "metadata": {},
   "outputs": [],
   "source": [
    "y_hat_sma = data.copy()\n",
    "ma_window = 3\n",
    "y_hat_sma['sma_forecast-3'] = data['Price'].rolling(ma_window).mean()\n",
    "y_hat_sma['sma_forecast-3'][train_len:] = y_hat_sma['sma_forecast-3'][train_len-1]"
   ]
  },
  {
   "cell_type": "code",
   "execution_count": 27,
   "id": "01277be9",
   "metadata": {},
   "outputs": [
    {
     "data": {
      "image/png": "[encoded data removed]",
      "text/plain": [
       "<Figure size 864x288 with 1 Axes>"
      ]
     },
     "metadata": {
      "needs_background": "light"
     },
     "output_type": "display_data"
    }
   ],
   "source": [
    "plt.figure(figsize=(12,4))\n",
    "plt.grid()\n",
    "plt.plot(train['Price'], label='Train')\n",
    "plt.plot(test['Price'], label='Test')\n",
    "plt.plot(y_hat_sma['sma_forecast-3'], label='Simple moving average forecast-3')\n",
    "plt.legend(loc='best')\n",
    "plt.title('Simple Moving Average Method-3')\n",
    "plt.show()"
   ]
  },
  {
   "cell_type": "code",
   "execution_count": 28,
   "id": "7274ca9c",
   "metadata": {},
   "outputs": [],
   "source": [
    "### Calculate RMSE and MAPE"
   ]
  },
  {
   "cell_type": "code",
   "execution_count": 29,
   "id": "a648defa",
   "metadata": {},
   "outputs": [
    {
     "data": {
      "text/html": [
       "<div>\n",
       "<style scoped>\n",
       "    .dataframe tbody tr th:only-of-type {\n",
       "        vertical-align: middle;\n",
       "    }\n",
       "\n",
       "    .dataframe tbody tr th {\n",
       "        vertical-align: top;\n",
       "    }\n",
       "\n",
       "    .dataframe thead th {\n",
       "        text-align: right;\n",
       "    }\n",
       "</style>\n",
       "<table border=\"1\" class=\"dataframe\">\n",
       "  <thead>\n",
       "    <tr style=\"text-align: right;\">\n",
       "      <th></th>\n",
       "      <th>Method</th>\n",
       "      <th>RMSE</th>\n",
       "      <th>MAPE</th>\n",
       "    </tr>\n",
       "  </thead>\n",
       "  <tbody>\n",
       "    <tr>\n",
       "      <th>0</th>\n",
       "      <td>Naive method</td>\n",
       "      <td>1265.90</td>\n",
       "      <td>27.12</td>\n",
       "    </tr>\n",
       "    <tr>\n",
       "      <th>0</th>\n",
       "      <td>Simple average method</td>\n",
       "      <td>2703.73</td>\n",
       "      <td>80.19</td>\n",
       "    </tr>\n",
       "    <tr>\n",
       "      <th>0</th>\n",
       "      <td>Simple moving average forecast=12</td>\n",
       "      <td>2338.94</td>\n",
       "      <td>67.42</td>\n",
       "    </tr>\n",
       "    <tr>\n",
       "      <th>0</th>\n",
       "      <td>Simple moving average forecast-6</td>\n",
       "      <td>2035.79</td>\n",
       "      <td>56.61</td>\n",
       "    </tr>\n",
       "    <tr>\n",
       "      <th>0</th>\n",
       "      <td>Simple moving average forecast-3</td>\n",
       "      <td>1794.92</td>\n",
       "      <td>47.81</td>\n",
       "    </tr>\n",
       "  </tbody>\n",
       "</table>\n",
       "</div>"
      ],
      "text/plain": [
       "                              Method     RMSE   MAPE\n",
       "0                       Naive method  1265.90  27.12\n",
       "0              Simple average method  2703.73  80.19\n",
       "0  Simple moving average forecast=12  2338.94  67.42\n",
       "0   Simple moving average forecast-6  2035.79  56.61\n",
       "0   Simple moving average forecast-3  1794.92  47.81"
      ]
     },
     "execution_count": 29,
     "metadata": {},
     "output_type": "execute_result"
    }
   ],
   "source": [
    "rmse = np.sqrt(mean_squared_error(test['Price'], y_hat_sma['sma_forecast-3'][train_len:])).round(2)\n",
    "mape = np.round(np.mean(np.abs(test['Price']-y_hat_sma['sma_forecast-3'][train_len:])/test['Price'])*100,2)\n",
    "\n",
    "tempResults = pd.DataFrame({'Method':['Simple moving average forecast-3'], 'RMSE': [rmse],'MAPE': [mape] })\n",
    "results = pd.concat([results, tempResults])\n",
    "results = results[['Method', 'RMSE', 'MAPE']]\n",
    "results"
   ]
  },
  {
   "cell_type": "code",
   "execution_count": null,
   "id": "4e06a97c",
   "metadata": {},
   "outputs": [],
   "source": []
  },
  {
   "cell_type": "markdown",
   "id": "2a54636d",
   "metadata": {},
   "source": [
    "## Exponential smoothing methods"
   ]
  },
  {
   "cell_type": "markdown",
   "id": "e1c6bf51",
   "metadata": {},
   "source": [
    "### Simple exponential smoothing"
   ]
  },
  {
   "cell_type": "code",
   "execution_count": 30,
   "id": "e443f658",
   "metadata": {},
   "outputs": [
    {
     "name": "stderr",
     "output_type": "stream",
     "text": [
      "C:\\ProgramData\\Anaconda3\\lib\\site-packages\\statsmodels\\tsa\\base\\tsa_model.py:471: ValueWarning: No frequency information was provided, so inferred frequency MS will be used.\n",
      "  self._init_dates(dates, freq)\n"
     ]
    }
   ],
   "source": [
    "from statsmodels.tsa.holtwinters import SimpleExpSmoothing\n",
    "model = SimpleExpSmoothing(train['Price'])\n",
    "model_fit = model.fit(optimized=True)\n",
    "model_fit.params\n",
    "y_hat_ses = test.copy()\n",
    "y_hat_ses['ses_forecast'] = model_fit.forecast(len(test))"
   ]
  },
  {
   "cell_type": "code",
   "execution_count": null,
   "id": "55996280",
   "metadata": {},
   "outputs": [],
   "source": []
  },
  {
   "cell_type": "code",
   "execution_count": 31,
   "id": "e31579ee",
   "metadata": {},
   "outputs": [
    {
     "data": {
      "image/png": "[encoded data removed]",
      "text/plain": [
       "<Figure size 864x288 with 1 Axes>"
      ]
     },
     "metadata": {
      "needs_background": "light"
     },
     "output_type": "display_data"
    }
   ],
   "source": [
    "plt.figure(figsize=(12,4))\n",
    "plt.grid()\n",
    "plt.plot(train['Price'], label='Train')\n",
    "plt.plot(test['Price'], label='Test')\n",
    "plt.plot(y_hat_ses['ses_forecast'], label='Simple exponential smoothing forecast')\n",
    "plt.legend(loc='best')\n",
    "plt.title('Simple Exponential Smoothing Method')\n",
    "plt.show()"
   ]
  },
  {
   "cell_type": "code",
   "execution_count": 32,
   "id": "07c91fb2",
   "metadata": {},
   "outputs": [],
   "source": [
    "### Calculate RMSE and MAPE"
   ]
  },
  {
   "cell_type": "code",
   "execution_count": 33,
   "id": "9b43853a",
   "metadata": {},
   "outputs": [
    {
     "data": {
      "text/html": [
       "<div>\n",
       "<style scoped>\n",
       "    .dataframe tbody tr th:only-of-type {\n",
       "        vertical-align: middle;\n",
       "    }\n",
       "\n",
       "    .dataframe tbody tr th {\n",
       "        vertical-align: top;\n",
       "    }\n",
       "\n",
       "    .dataframe thead th {\n",
       "        text-align: right;\n",
       "    }\n",
       "</style>\n",
       "<table border=\"1\" class=\"dataframe\">\n",
       "  <thead>\n",
       "    <tr style=\"text-align: right;\">\n",
       "      <th></th>\n",
       "      <th>Method</th>\n",
       "      <th>RMSE</th>\n",
       "      <th>MAPE</th>\n",
       "    </tr>\n",
       "  </thead>\n",
       "  <tbody>\n",
       "    <tr>\n",
       "      <th>0</th>\n",
       "      <td>Naive method</td>\n",
       "      <td>1265.90</td>\n",
       "      <td>27.12</td>\n",
       "    </tr>\n",
       "    <tr>\n",
       "      <th>0</th>\n",
       "      <td>Simple average method</td>\n",
       "      <td>2703.73</td>\n",
       "      <td>80.19</td>\n",
       "    </tr>\n",
       "    <tr>\n",
       "      <th>0</th>\n",
       "      <td>Simple moving average forecast=12</td>\n",
       "      <td>2338.94</td>\n",
       "      <td>67.42</td>\n",
       "    </tr>\n",
       "    <tr>\n",
       "      <th>0</th>\n",
       "      <td>Simple moving average forecast-6</td>\n",
       "      <td>2035.79</td>\n",
       "      <td>56.61</td>\n",
       "    </tr>\n",
       "    <tr>\n",
       "      <th>0</th>\n",
       "      <td>Simple moving average forecast-3</td>\n",
       "      <td>1794.92</td>\n",
       "      <td>47.81</td>\n",
       "    </tr>\n",
       "    <tr>\n",
       "      <th>0</th>\n",
       "      <td>Simple exponential smoothing forecast</td>\n",
       "      <td>1268.86</td>\n",
       "      <td>27.25</td>\n",
       "    </tr>\n",
       "  </tbody>\n",
       "</table>\n",
       "</div>"
      ],
      "text/plain": [
       "                                  Method     RMSE   MAPE\n",
       "0                           Naive method  1265.90  27.12\n",
       "0                  Simple average method  2703.73  80.19\n",
       "0      Simple moving average forecast=12  2338.94  67.42\n",
       "0       Simple moving average forecast-6  2035.79  56.61\n",
       "0       Simple moving average forecast-3  1794.92  47.81\n",
       "0  Simple exponential smoothing forecast  1268.86  27.25"
      ]
     },
     "execution_count": 33,
     "metadata": {},
     "output_type": "execute_result"
    }
   ],
   "source": [
    "rmse = np.sqrt(mean_squared_error(test['Price'], y_hat_ses['ses_forecast'])).round(2)\n",
    "mape = np.round(np.mean(np.abs(test['Price']-y_hat_ses['ses_forecast'])/test['Price'])*100,2)\n",
    "\n",
    "tempResults = pd.DataFrame({'Method':['Simple exponential smoothing forecast'], 'RMSE': [rmse],'MAPE': [mape] })\n",
    "results = pd.concat([results, tempResults])\n",
    "results"
   ]
  },
  {
   "cell_type": "code",
   "execution_count": null,
   "id": "34d1365c",
   "metadata": {},
   "outputs": [],
   "source": []
  },
  {
   "cell_type": "markdown",
   "id": "2fe669a6",
   "metadata": {},
   "source": [
    "### Holt's method with trend"
   ]
  },
  {
   "cell_type": "code",
   "execution_count": 34,
   "id": "48eaaeb7",
   "metadata": {},
   "outputs": [
    {
     "name": "stdout",
     "output_type": "stream",
     "text": [
      "{'smoothing_level': 0.995, 'smoothing_trend': 0.4264285714285714, 'smoothing_seasonal': nan, 'damping_trend': nan, 'initial_level': 222.41999999999987, 'initial_trend': 5.2600000000000176, 'initial_seasons': array([], dtype=float64), 'use_boxcox': False, 'lamda': None, 'remove_bias': False}\n"
     ]
    }
   ],
   "source": [
    "from statsmodels.tsa.holtwinters import ExponentialSmoothing\n",
    "model = ExponentialSmoothing(np.asarray(train['Price']) ,trend='additive', seasonal=None)\n",
    "model_fit = model.fit(optimized=True)\n",
    "print(model_fit.params)\n",
    "y_hat_holt = test.copy()\n",
    "y_hat_holt['holt_forecast'] = model_fit.forecast(len(test))"
   ]
  },
  {
   "cell_type": "code",
   "execution_count": 35,
   "id": "dfa89b51",
   "metadata": {},
   "outputs": [
    {
     "data": {
      "image/png": "[encoded data removed]",
      "text/plain": [
       "<Figure size 864x288 with 1 Axes>"
      ]
     },
     "metadata": {
      "needs_background": "light"
     },
     "output_type": "display_data"
    }
   ],
   "source": [
    "plt.figure(figsize=(12,4))\n",
    "plt.grid()\n",
    "plt.plot( train['Price'], label='Train')\n",
    "plt.plot(test['Price'], label='Test')\n",
    "plt.plot(y_hat_holt['holt_forecast'], label='Holt\\'s exponential smoothing forecast')\n",
    "plt.legend(loc='best')\n",
    "plt.title('Holt\\'s Exponential Smoothing Method')\n",
    "plt.show()"
   ]
  },
  {
   "cell_type": "code",
   "execution_count": 36,
   "id": "1eb40b44",
   "metadata": {},
   "outputs": [],
   "source": [
    "### Calculate RMSE and MAPE"
   ]
  },
  {
   "cell_type": "code",
   "execution_count": 37,
   "id": "1d7876d2",
   "metadata": {},
   "outputs": [
    {
     "data": {
      "text/html": [
       "<div>\n",
       "<style scoped>\n",
       "    .dataframe tbody tr th:only-of-type {\n",
       "        vertical-align: middle;\n",
       "    }\n",
       "\n",
       "    .dataframe tbody tr th {\n",
       "        vertical-align: top;\n",
       "    }\n",
       "\n",
       "    .dataframe thead th {\n",
       "        text-align: right;\n",
       "    }\n",
       "</style>\n",
       "<table border=\"1\" class=\"dataframe\">\n",
       "  <thead>\n",
       "    <tr style=\"text-align: right;\">\n",
       "      <th></th>\n",
       "      <th>Method</th>\n",
       "      <th>RMSE</th>\n",
       "      <th>MAPE</th>\n",
       "    </tr>\n",
       "  </thead>\n",
       "  <tbody>\n",
       "    <tr>\n",
       "      <th>0</th>\n",
       "      <td>Naive method</td>\n",
       "      <td>1265.90</td>\n",
       "      <td>27.12</td>\n",
       "    </tr>\n",
       "    <tr>\n",
       "      <th>0</th>\n",
       "      <td>Simple average method</td>\n",
       "      <td>2703.73</td>\n",
       "      <td>80.19</td>\n",
       "    </tr>\n",
       "    <tr>\n",
       "      <th>0</th>\n",
       "      <td>Simple moving average forecast=12</td>\n",
       "      <td>2338.94</td>\n",
       "      <td>67.42</td>\n",
       "    </tr>\n",
       "    <tr>\n",
       "      <th>0</th>\n",
       "      <td>Simple moving average forecast-6</td>\n",
       "      <td>2035.79</td>\n",
       "      <td>56.61</td>\n",
       "    </tr>\n",
       "    <tr>\n",
       "      <th>0</th>\n",
       "      <td>Simple moving average forecast-3</td>\n",
       "      <td>1794.92</td>\n",
       "      <td>47.81</td>\n",
       "    </tr>\n",
       "    <tr>\n",
       "      <th>0</th>\n",
       "      <td>Simple exponential smoothing forecast</td>\n",
       "      <td>1268.86</td>\n",
       "      <td>27.25</td>\n",
       "    </tr>\n",
       "    <tr>\n",
       "      <th>0</th>\n",
       "      <td>Holt's exponential smoothing method</td>\n",
       "      <td>497.91</td>\n",
       "      <td>10.99</td>\n",
       "    </tr>\n",
       "  </tbody>\n",
       "</table>\n",
       "</div>"
      ],
      "text/plain": [
       "                                  Method     RMSE   MAPE\n",
       "0                           Naive method  1265.90  27.12\n",
       "0                  Simple average method  2703.73  80.19\n",
       "0      Simple moving average forecast=12  2338.94  67.42\n",
       "0       Simple moving average forecast-6  2035.79  56.61\n",
       "0       Simple moving average forecast-3  1794.92  47.81\n",
       "0  Simple exponential smoothing forecast  1268.86  27.25\n",
       "0    Holt's exponential smoothing method   497.91  10.99"
      ]
     },
     "execution_count": 37,
     "metadata": {},
     "output_type": "execute_result"
    }
   ],
   "source": [
    "rmse = np.sqrt(mean_squared_error(test['Price'], y_hat_holt['holt_forecast'])).round(2)\n",
    "mape = np.round(np.mean(np.abs(test['Price']-y_hat_holt['holt_forecast'])/test['Price'])*100,2)\n",
    "\n",
    "tempResults = pd.DataFrame({'Method':['Holt\\'s exponential smoothing method'], 'RMSE': [rmse],'MAPE': [mape] })\n",
    "results = pd.concat([results, tempResults])\n",
    "results = results[['Method', 'RMSE', 'MAPE']]\n",
    "results"
   ]
  },
  {
   "cell_type": "code",
   "execution_count": null,
   "id": "eaac3f16",
   "metadata": {},
   "outputs": [],
   "source": []
  },
  {
   "cell_type": "markdown",
   "id": "f723da4b",
   "metadata": {},
   "source": [
    "### Holt Winters' additive method with trend and seasonality"
   ]
  },
  {
   "cell_type": "code",
   "execution_count": 38,
   "id": "a7e821d8",
   "metadata": {},
   "outputs": [
    {
     "name": "stdout",
     "output_type": "stream",
     "text": [
      "{'smoothing_level': 0.9950517210446927, 'smoothing_trend': 0.43233248249505807, 'smoothing_seasonal': 9.794185542721287e-05, 'damping_trend': nan, 'initial_level': 207.38376669340138, 'initial_trend': 11.058267257446873, 'initial_seasons': array([-18.44232989,  17.15290339,   1.40628408]), 'use_boxcox': False, 'lamda': None, 'remove_bias': False}\n"
     ]
    }
   ],
   "source": [
    "y_hat_hwa = test.copy()\n",
    "model = ExponentialSmoothing(np.asarray(train['Price']),seasonal_periods=3,trend='add', seasonal='add')\n",
    "model_fit = model.fit(optimized=True)\n",
    "print(model_fit.params)\n",
    "y_hat_hwa['hw_forecast'] = model_fit.forecast(len(test))"
   ]
  },
  {
   "cell_type": "code",
   "execution_count": 39,
   "id": "2bbdbc42",
   "metadata": {},
   "outputs": [
    {
     "data": {
      "image/png": "[encoded data removed]",
      "text/plain": [
       "<Figure size 864x288 with 1 Axes>"
      ]
     },
     "metadata": {
      "needs_background": "light"
     },
     "output_type": "display_data"
    }
   ],
   "source": [
    "plt.figure(figsize=(12,4))\n",
    "plt.grid()\n",
    "plt.plot( train['Price'], label='Train')\n",
    "plt.plot(test['Price'], label='Test')\n",
    "plt.plot(y_hat_hwa['hw_forecast'], label='Holt Winters\\'s additive forecast')\n",
    "plt.legend(loc='best')\n",
    "plt.title('Holt Winters\\' Additive Method')\n",
    "plt.show()"
   ]
  },
  {
   "cell_type": "code",
   "execution_count": 40,
   "id": "32329bf7",
   "metadata": {},
   "outputs": [],
   "source": [
    "### Calculate RMSE and MAPE"
   ]
  },
  {
   "cell_type": "code",
   "execution_count": 41,
   "id": "3c765dfb",
   "metadata": {},
   "outputs": [
    {
     "data": {
      "text/html": [
       "<div>\n",
       "<style scoped>\n",
       "    .dataframe tbody tr th:only-of-type {\n",
       "        vertical-align: middle;\n",
       "    }\n",
       "\n",
       "    .dataframe tbody tr th {\n",
       "        vertical-align: top;\n",
       "    }\n",
       "\n",
       "    .dataframe thead th {\n",
       "        text-align: right;\n",
       "    }\n",
       "</style>\n",
       "<table border=\"1\" class=\"dataframe\">\n",
       "  <thead>\n",
       "    <tr style=\"text-align: right;\">\n",
       "      <th></th>\n",
       "      <th>Method</th>\n",
       "      <th>RMSE</th>\n",
       "      <th>MAPE</th>\n",
       "    </tr>\n",
       "  </thead>\n",
       "  <tbody>\n",
       "    <tr>\n",
       "      <th>0</th>\n",
       "      <td>Naive method</td>\n",
       "      <td>1265.90</td>\n",
       "      <td>27.12</td>\n",
       "    </tr>\n",
       "    <tr>\n",
       "      <th>0</th>\n",
       "      <td>Simple average method</td>\n",
       "      <td>2703.73</td>\n",
       "      <td>80.19</td>\n",
       "    </tr>\n",
       "    <tr>\n",
       "      <th>0</th>\n",
       "      <td>Simple moving average forecast=12</td>\n",
       "      <td>2338.94</td>\n",
       "      <td>67.42</td>\n",
       "    </tr>\n",
       "    <tr>\n",
       "      <th>0</th>\n",
       "      <td>Simple moving average forecast-6</td>\n",
       "      <td>2035.79</td>\n",
       "      <td>56.61</td>\n",
       "    </tr>\n",
       "    <tr>\n",
       "      <th>0</th>\n",
       "      <td>Simple moving average forecast-3</td>\n",
       "      <td>1794.92</td>\n",
       "      <td>47.81</td>\n",
       "    </tr>\n",
       "    <tr>\n",
       "      <th>0</th>\n",
       "      <td>Simple exponential smoothing forecast</td>\n",
       "      <td>1268.86</td>\n",
       "      <td>27.25</td>\n",
       "    </tr>\n",
       "    <tr>\n",
       "      <th>0</th>\n",
       "      <td>Holt's exponential smoothing method</td>\n",
       "      <td>497.91</td>\n",
       "      <td>10.99</td>\n",
       "    </tr>\n",
       "    <tr>\n",
       "      <th>0</th>\n",
       "      <td>Holt Winters' additive method</td>\n",
       "      <td>500.38</td>\n",
       "      <td>10.28</td>\n",
       "    </tr>\n",
       "  </tbody>\n",
       "</table>\n",
       "</div>"
      ],
      "text/plain": [
       "                                  Method     RMSE   MAPE\n",
       "0                           Naive method  1265.90  27.12\n",
       "0                  Simple average method  2703.73  80.19\n",
       "0      Simple moving average forecast=12  2338.94  67.42\n",
       "0       Simple moving average forecast-6  2035.79  56.61\n",
       "0       Simple moving average forecast-3  1794.92  47.81\n",
       "0  Simple exponential smoothing forecast  1268.86  27.25\n",
       "0    Holt's exponential smoothing method   497.91  10.99\n",
       "0          Holt Winters' additive method   500.38  10.28"
      ]
     },
     "execution_count": 41,
     "metadata": {},
     "output_type": "execute_result"
    }
   ],
   "source": [
    "rmse = np.sqrt(mean_squared_error(test['Price'], y_hat_hwa['hw_forecast'])).round(2)\n",
    "mape = np.round(np.mean(np.abs(test['Price']-y_hat_hwa['hw_forecast'])/test['Price'])*100,2)\n",
    "\n",
    "tempResults = pd.DataFrame({'Method':['Holt Winters\\' additive method'], 'RMSE': [rmse],'MAPE': [mape] })\n",
    "results = pd.concat([results, tempResults])\n",
    "results = results[['Method', 'RMSE', 'MAPE']]\n",
    "results"
   ]
  },
  {
   "cell_type": "markdown",
   "id": "9a57e59e",
   "metadata": {},
   "source": [
    "### Forcast on basis of SMA"
   ]
  },
  {
   "cell_type": "code",
   "execution_count": 42,
   "id": "a70cdd20",
   "metadata": {},
   "outputs": [],
   "source": [
    "y_hat_sma = data.copy()\n",
    "ma_window12 =12\n",
    "y_hat_sma['sma_forecast12'] = data['Price'].rolling(ma_window12).mean()\n",
    "y_hat_sma['sma_forecast12'][train_len:] = y_hat_sma['sma_forecast12'][train_len-1]\n",
    "ma_window6 =6\n",
    "y_hat_sma['sma_forecast6'] = data['Price'].rolling(ma_window6).mean()\n",
    "y_hat_sma['sma_forecast6'][train_len:] = y_hat_sma['sma_forecast6'][train_len-1]\n",
    "ma_window3 =3\n",
    "y_hat_sma['sma_forecast3'] = data['Price'].rolling(ma_window3).mean()\n",
    "y_hat_sma['sma_forecast3'][train_len:] = y_hat_sma['sma_forecast3'][train_len-1]\n",
    "ma_window1 =1\n",
    "y_hat_sma['sma_forecast1'] = data['Price'].rolling(ma_window1).mean()\n",
    "y_hat_sma['sma_forecast1'][train_len:] = y_hat_sma['sma_forecast1'][train_len-1]\n",
    "ma_window9 =9\n",
    "y_hat_sma['sma_forecast9'] = data['Price'].rolling(ma_window9).mean()\n",
    "y_hat_sma['sma_forecast9'][train_len:] = y_hat_sma['sma_forecast9'][train_len-1]"
   ]
  },
  {
   "cell_type": "code",
   "execution_count": 43,
   "id": "ab6fbb97",
   "metadata": {},
   "outputs": [
    {
     "data": {
      "text/html": [
       "<div>\n",
       "<style scoped>\n",
       "    .dataframe tbody tr th:only-of-type {\n",
       "        vertical-align: middle;\n",
       "    }\n",
       "\n",
       "    .dataframe tbody tr th {\n",
       "        vertical-align: top;\n",
       "    }\n",
       "\n",
       "    .dataframe thead th {\n",
       "        text-align: right;\n",
       "    }\n",
       "</style>\n",
       "<table border=\"1\" class=\"dataframe\">\n",
       "  <thead>\n",
       "    <tr style=\"text-align: right;\">\n",
       "      <th></th>\n",
       "      <th>Price</th>\n",
       "      <th>sma_forecast12</th>\n",
       "      <th>sma_forecast6</th>\n",
       "      <th>sma_forecast3</th>\n",
       "      <th>sma_forecast1</th>\n",
       "      <th>sma_forecast9</th>\n",
       "    </tr>\n",
       "    <tr>\n",
       "      <th>Months</th>\n",
       "      <th></th>\n",
       "      <th></th>\n",
       "      <th></th>\n",
       "      <th></th>\n",
       "      <th></th>\n",
       "      <th></th>\n",
       "    </tr>\n",
       "  </thead>\n",
       "  <tbody>\n",
       "    <tr>\n",
       "      <th>2018-01-01</th>\n",
       "      <td>217.4</td>\n",
       "      <td>NaN</td>\n",
       "      <td>NaN</td>\n",
       "      <td>NaN</td>\n",
       "      <td>217.4</td>\n",
       "      <td>NaN</td>\n",
       "    </tr>\n",
       "    <tr>\n",
       "      <th>2018-02-01</th>\n",
       "      <td>255.7</td>\n",
       "      <td>NaN</td>\n",
       "      <td>NaN</td>\n",
       "      <td>NaN</td>\n",
       "      <td>255.7</td>\n",
       "      <td>NaN</td>\n",
       "    </tr>\n",
       "    <tr>\n",
       "      <th>2018-03-01</th>\n",
       "      <td>244.3</td>\n",
       "      <td>NaN</td>\n",
       "      <td>NaN</td>\n",
       "      <td>239.133333</td>\n",
       "      <td>244.3</td>\n",
       "      <td>NaN</td>\n",
       "    </tr>\n",
       "    <tr>\n",
       "      <th>2018-04-01</th>\n",
       "      <td>236.1</td>\n",
       "      <td>NaN</td>\n",
       "      <td>NaN</td>\n",
       "      <td>245.366667</td>\n",
       "      <td>236.1</td>\n",
       "      <td>NaN</td>\n",
       "    </tr>\n",
       "    <tr>\n",
       "      <th>2018-05-01</th>\n",
       "      <td>228.7</td>\n",
       "      <td>NaN</td>\n",
       "      <td>NaN</td>\n",
       "      <td>236.366667</td>\n",
       "      <td>228.7</td>\n",
       "      <td>NaN</td>\n",
       "    </tr>\n",
       "    <tr>\n",
       "      <th>2018-06-01</th>\n",
       "      <td>262.9</td>\n",
       "      <td>NaN</td>\n",
       "      <td>240.850000</td>\n",
       "      <td>242.566667</td>\n",
       "      <td>262.9</td>\n",
       "      <td>NaN</td>\n",
       "    </tr>\n",
       "    <tr>\n",
       "      <th>2018-07-01</th>\n",
       "      <td>284.5</td>\n",
       "      <td>NaN</td>\n",
       "      <td>252.033333</td>\n",
       "      <td>258.700000</td>\n",
       "      <td>284.5</td>\n",
       "      <td>NaN</td>\n",
       "    </tr>\n",
       "    <tr>\n",
       "      <th>2018-08-01</th>\n",
       "      <td>231.4</td>\n",
       "      <td>NaN</td>\n",
       "      <td>247.983333</td>\n",
       "      <td>259.600000</td>\n",
       "      <td>231.4</td>\n",
       "      <td>NaN</td>\n",
       "    </tr>\n",
       "    <tr>\n",
       "      <th>2018-09-01</th>\n",
       "      <td>236.5</td>\n",
       "      <td>NaN</td>\n",
       "      <td>246.683333</td>\n",
       "      <td>250.800000</td>\n",
       "      <td>236.5</td>\n",
       "      <td>244.166667</td>\n",
       "    </tr>\n",
       "    <tr>\n",
       "      <th>2018-10-01</th>\n",
       "      <td>316.0</td>\n",
       "      <td>NaN</td>\n",
       "      <td>260.000000</td>\n",
       "      <td>261.300000</td>\n",
       "      <td>316.0</td>\n",
       "      <td>255.122222</td>\n",
       "    </tr>\n",
       "    <tr>\n",
       "      <th>2018-11-01</th>\n",
       "      <td>376.9</td>\n",
       "      <td>NaN</td>\n",
       "      <td>284.700000</td>\n",
       "      <td>309.800000</td>\n",
       "      <td>376.9</td>\n",
       "      <td>268.588889</td>\n",
       "    </tr>\n",
       "    <tr>\n",
       "      <th>2018-12-01</th>\n",
       "      <td>429.0</td>\n",
       "      <td>276.616667</td>\n",
       "      <td>312.383333</td>\n",
       "      <td>373.966667</td>\n",
       "      <td>429.0</td>\n",
       "      <td>289.111111</td>\n",
       "    </tr>\n",
       "    <tr>\n",
       "      <th>2019-01-01</th>\n",
       "      <td>365.5</td>\n",
       "      <td>288.958333</td>\n",
       "      <td>325.883333</td>\n",
       "      <td>390.466667</td>\n",
       "      <td>365.5</td>\n",
       "      <td>303.488889</td>\n",
       "    </tr>\n",
       "    <tr>\n",
       "      <th>2019-02-01</th>\n",
       "      <td>439.2</td>\n",
       "      <td>304.250000</td>\n",
       "      <td>360.516667</td>\n",
       "      <td>411.233333</td>\n",
       "      <td>439.2</td>\n",
       "      <td>326.877778</td>\n",
       "    </tr>\n",
       "    <tr>\n",
       "      <th>2019-03-01</th>\n",
       "      <td>416.0</td>\n",
       "      <td>318.558333</td>\n",
       "      <td>390.433333</td>\n",
       "      <td>406.900000</td>\n",
       "      <td>416.0</td>\n",
       "      <td>343.888889</td>\n",
       "    </tr>\n",
       "    <tr>\n",
       "      <th>2019-04-01</th>\n",
       "      <td>446.6</td>\n",
       "      <td>336.100000</td>\n",
       "      <td>412.200000</td>\n",
       "      <td>433.933333</td>\n",
       "      <td>446.6</td>\n",
       "      <td>361.900000</td>\n",
       "    </tr>\n",
       "    <tr>\n",
       "      <th>2019-05-01</th>\n",
       "      <td>530.7</td>\n",
       "      <td>361.266667</td>\n",
       "      <td>437.833333</td>\n",
       "      <td>464.433333</td>\n",
       "      <td>530.7</td>\n",
       "      <td>395.155556</td>\n",
       "    </tr>\n",
       "    <tr>\n",
       "      <th>2019-06-01</th>\n",
       "      <td>674.7</td>\n",
       "      <td>395.583333</td>\n",
       "      <td>478.783333</td>\n",
       "      <td>550.666667</td>\n",
       "      <td>674.7</td>\n",
       "      <td>443.844444</td>\n",
       "    </tr>\n",
       "    <tr>\n",
       "      <th>2019-07-01</th>\n",
       "      <td>623.7</td>\n",
       "      <td>423.850000</td>\n",
       "      <td>521.816667</td>\n",
       "      <td>609.700000</td>\n",
       "      <td>623.7</td>\n",
       "      <td>478.033333</td>\n",
       "    </tr>\n",
       "    <tr>\n",
       "      <th>2019-08-01</th>\n",
       "      <td>576.2</td>\n",
       "      <td>452.583333</td>\n",
       "      <td>544.650000</td>\n",
       "      <td>624.866667</td>\n",
       "      <td>576.2</td>\n",
       "      <td>500.177778</td>\n",
       "    </tr>\n",
       "  </tbody>\n",
       "</table>\n",
       "</div>"
      ],
      "text/plain": [
       "            Price  sma_forecast12  sma_forecast6  sma_forecast3  \\\n",
       "Months                                                            \n",
       "2018-01-01  217.4             NaN            NaN            NaN   \n",
       "2018-02-01  255.7             NaN            NaN            NaN   \n",
       "2018-03-01  244.3             NaN            NaN     239.133333   \n",
       "2018-04-01  236.1             NaN            NaN     245.366667   \n",
       "2018-05-01  228.7             NaN            NaN     236.366667   \n",
       "2018-06-01  262.9             NaN     240.850000     242.566667   \n",
       "2018-07-01  284.5             NaN     252.033333     258.700000   \n",
       "2018-08-01  231.4             NaN     247.983333     259.600000   \n",
       "2018-09-01  236.5             NaN     246.683333     250.800000   \n",
       "2018-10-01  316.0             NaN     260.000000     261.300000   \n",
       "2018-11-01  376.9             NaN     284.700000     309.800000   \n",
       "2018-12-01  429.0      276.616667     312.383333     373.966667   \n",
       "2019-01-01  365.5      288.958333     325.883333     390.466667   \n",
       "2019-02-01  439.2      304.250000     360.516667     411.233333   \n",
       "2019-03-01  416.0      318.558333     390.433333     406.900000   \n",
       "2019-04-01  446.6      336.100000     412.200000     433.933333   \n",
       "2019-05-01  530.7      361.266667     437.833333     464.433333   \n",
       "2019-06-01  674.7      395.583333     478.783333     550.666667   \n",
       "2019-07-01  623.7      423.850000     521.816667     609.700000   \n",
       "2019-08-01  576.2      452.583333     544.650000     624.866667   \n",
       "\n",
       "            sma_forecast1  sma_forecast9  \n",
       "Months                                    \n",
       "2018-01-01          217.4            NaN  \n",
       "2018-02-01          255.7            NaN  \n",
       "2018-03-01          244.3            NaN  \n",
       "2018-04-01          236.1            NaN  \n",
       "2018-05-01          228.7            NaN  \n",
       "2018-06-01          262.9            NaN  \n",
       "2018-07-01          284.5            NaN  \n",
       "2018-08-01          231.4            NaN  \n",
       "2018-09-01          236.5     244.166667  \n",
       "2018-10-01          316.0     255.122222  \n",
       "2018-11-01          376.9     268.588889  \n",
       "2018-12-01          429.0     289.111111  \n",
       "2019-01-01          365.5     303.488889  \n",
       "2019-02-01          439.2     326.877778  \n",
       "2019-03-01          416.0     343.888889  \n",
       "2019-04-01          446.6     361.900000  \n",
       "2019-05-01          530.7     395.155556  \n",
       "2019-06-01          674.7     443.844444  \n",
       "2019-07-01          623.7     478.033333  \n",
       "2019-08-01          576.2     500.177778  "
      ]
     },
     "execution_count": 43,
     "metadata": {},
     "output_type": "execute_result"
    }
   ],
   "source": [
    "y_hat_sma.head(20)"
   ]
  },
  {
   "cell_type": "code",
   "execution_count": null,
   "id": "d0f6238b",
   "metadata": {},
   "outputs": [],
   "source": []
  }
 ],
 "metadata": {
  "kernelspec": {
   "display_name": "Python 3 (ipykernel)",
   "language": "python",
   "name": "python3"
  },
  "language_info": {
   "codemirror_mode": {
    "name": "ipython",
    "version": 3
   },
   "file_extension": ".py",
   "mimetype": "text/x-python",
   "name": "python",
   "nbconvert_exporter": "python",
   "pygments_lexer": "ipython3",
   "version": "3.9.12"
  }
 },
 "nbformat": 4,
 "nbformat_minor": 5
}
