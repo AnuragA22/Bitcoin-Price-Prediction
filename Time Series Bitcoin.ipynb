{
 "cells": [
  {
   "cell_type": "code",
   "execution_count": 1,
   "id": "d6fdedce",
   "metadata": {},
   "outputs": [],
   "source": [
    "import pandas as pd \n",
    "import numpy as np \n",
    "import matplotlib.pyplot as plt\n",
    "%matplotlib inline\n",
    "\n",
    "import warnings\n",
    "warnings.filterwarnings(\"ignore\")"
   ]
  },
  {
   "cell_type": "code",
   "execution_count": 2,
   "id": "c47b2ece",
   "metadata": {},
   "outputs": [],
   "source": [
    "from datetime import datetime\n",
    "import calendar\n",
    "from pylab import rcParams\n",
    "import statsmodels.api as sm"
   ]
  },
  {
   "cell_type": "code",
   "execution_count": 3,
   "id": "fd015c7e",
   "metadata": {},
   "outputs": [
    {
     "data": {
      "text/html": [
       "<div>\n",
       "<style scoped>\n",
       "    .dataframe tbody tr th:only-of-type {\n",
       "        vertical-align: middle;\n",
       "    }\n",
       "\n",
       "    .dataframe tbody tr th {\n",
       "        vertical-align: top;\n",
       "    }\n",
       "\n",
       "    .dataframe thead th {\n",
       "        text-align: right;\n",
       "    }\n",
       "</style>\n",
       "<table border=\"1\" class=\"dataframe\">\n",
       "  <thead>\n",
       "    <tr style=\"text-align: right;\">\n",
       "      <th></th>\n",
       "      <th>Months</th>\n",
       "      <th>Price</th>\n",
       "    </tr>\n",
       "  </thead>\n",
       "  <tbody>\n",
       "    <tr>\n",
       "      <th>0</th>\n",
       "      <td>0</td>\n",
       "      <td>217.4</td>\n",
       "    </tr>\n",
       "    <tr>\n",
       "      <th>1</th>\n",
       "      <td>1</td>\n",
       "      <td>255.7</td>\n",
       "    </tr>\n",
       "  </tbody>\n",
       "</table>\n",
       "</div>"
      ],
      "text/plain": [
       "   Months  Price\n",
       "0       0  217.4\n",
       "1       1  255.7"
      ]
     },
     "execution_count": 3,
     "metadata": {},
     "output_type": "execute_result"
    }
   ],
   "source": [
    "data = pd.read_csv('bitcoin.csv')\n",
    "data.head(2)"
   ]
  },
  {
   "cell_type": "code",
   "execution_count": 4,
   "id": "e7db435c",
   "metadata": {},
   "outputs": [
    {
     "data": {
      "text/html": [
       "<div>\n",
       "<style scoped>\n",
       "    .dataframe tbody tr th:only-of-type {\n",
       "        vertical-align: middle;\n",
       "    }\n",
       "\n",
       "    .dataframe tbody tr th {\n",
       "        vertical-align: top;\n",
       "    }\n",
       "\n",
       "    .dataframe thead th {\n",
       "        text-align: right;\n",
       "    }\n",
       "</style>\n",
       "<table border=\"1\" class=\"dataframe\">\n",
       "  <thead>\n",
       "    <tr style=\"text-align: right;\">\n",
       "      <th></th>\n",
       "      <th>Price</th>\n",
       "    </tr>\n",
       "    <tr>\n",
       "      <th>Months</th>\n",
       "      <th></th>\n",
       "    </tr>\n",
       "  </thead>\n",
       "  <tbody>\n",
       "    <tr>\n",
       "      <th>2018-01-01</th>\n",
       "      <td>217.4</td>\n",
       "    </tr>\n",
       "    <tr>\n",
       "      <th>2018-02-01</th>\n",
       "      <td>255.7</td>\n",
       "    </tr>\n",
       "  </tbody>\n",
       "</table>\n",
       "</div>"
      ],
      "text/plain": [
       "            Price\n",
       "Months           \n",
       "2018-01-01  217.4\n",
       "2018-02-01  255.7"
      ]
     },
     "execution_count": 4,
     "metadata": {},
     "output_type": "execute_result"
    }
   ],
   "source": [
    "from datetime import date\n",
    "from dateutil.relativedelta import relativedelta\n",
    "for i in range(0,len(data.Months)):\n",
    "    data.Months[i] = date(2018,1,1) + relativedelta(months=+i)\n",
    "data = data.set_index('Months')\n",
    "data.head(2)"
   ]
  },
  {
   "cell_type": "markdown",
   "id": "255a9188",
   "metadata": {},
   "source": [
    "### Plot time series data"
   ]
  },
  {
   "cell_type": "code",
   "execution_count": 5,
   "id": "20b4590b",
   "metadata": {},
   "outputs": [
    {
     "data": {
      "image/png": "[encoded data removed]",
      "text/plain": [
       "<Figure size 1008x288 with 1 Axes>"
      ]
     },
     "metadata": {
      "needs_background": "light"
     },
     "output_type": "display_data"
    }
   ],
   "source": [
    "data.plot(figsize=(14, 4))\n",
    "plt.grid()\n",
    "plt.legend(loc='best')\n",
    "plt.title('Price')\n",
    "plt.show(block=False)"
   ]
  },
  {
   "cell_type": "code",
   "execution_count": 6,
   "id": "65f4e2c4",
   "metadata": {},
   "outputs": [
    {
     "data": {
      "text/plain": [
       "Price    0\n",
       "dtype: int64"
      ]
     },
     "execution_count": 6,
     "metadata": {},
     "output_type": "execute_result"
    }
   ],
   "source": [
    "data.isnull().sum()"
   ]
  },
  {
   "cell_type": "markdown",
   "id": "fd09b444",
   "metadata": {},
   "source": [
    "##### No missing data"
   ]
  },
  {
   "cell_type": "markdown",
   "id": "05d216d1",
   "metadata": {},
   "source": [
    "### Outlier detection"
   ]
  },
  {
   "cell_type": "markdown",
   "id": "4aa4b539",
   "metadata": {},
   "source": [
    "#### Box plot and interquartile range"
   ]
  },
  {
   "cell_type": "code",
   "execution_count": 7,
   "id": "430a1047",
   "metadata": {},
   "outputs": [
    {
     "data": {
      "image/png": "[encoded data removed]",
      "text/plain": [
       "<Figure size 864x144 with 1 Axes>"
      ]
     },
     "metadata": {
      "needs_background": "light"
     },
     "output_type": "display_data"
    }
   ],
   "source": [
    "import seaborn as sns\n",
    "fig = plt.subplots(figsize=(12, 2))\n",
    "ax = sns.boxplot(x=data['Price'], whis=1.5)"
   ]
  },
  {
   "cell_type": "markdown",
   "id": "44f50326",
   "metadata": {},
   "source": [
    "#### Histogram plot"
   ]
  },
  {
   "cell_type": "code",
   "execution_count": 8,
   "id": "4b9886b0",
   "metadata": {},
   "outputs": [
    {
     "data": {
      "image/png": "[encoded data removed]",
      "text/plain": [
       "<Figure size 864x288 with 1 Axes>"
      ]
     },
     "metadata": {
      "needs_background": "light"
     },
     "output_type": "display_data"
    }
   ],
   "source": [
    "fig = data.Price.hist(figsize = (12,4))"
   ]
  },
  {
   "cell_type": "code",
   "execution_count": null,
   "id": "8f8cc360",
   "metadata": {},
   "outputs": [],
   "source": []
  },
  {
   "cell_type": "markdown",
   "id": "279db11b",
   "metadata": {},
   "source": [
    "## Build and evaluate time series forecast"
   ]
  },
  {
   "cell_type": "markdown",
   "id": "e0bd4bc0",
   "metadata": {},
   "source": [
    "### Split time series data into training and test set"
   ]
  },
  {
   "cell_type": "code",
   "execution_count": 9,
   "id": "8ebfedba",
   "metadata": {},
   "outputs": [],
   "source": [
    "train_len = 29\n",
    "train = data[0:train_len] \n",
    "test = data[train_len:] "
   ]
  },
  {
   "cell_type": "code",
   "execution_count": null,
   "id": "58e47c69",
   "metadata": {},
   "outputs": [],
   "source": []
  },
  {
   "cell_type": "markdown",
   "id": "fe08c7d2",
   "metadata": {},
   "source": [
    "### Naive method"
   ]
  },
  {
   "cell_type": "code",
   "execution_count": 10,
   "id": "8713c5b8",
   "metadata": {},
   "outputs": [],
   "source": [
    "y_hat_naive = test.copy()\n",
    "y_hat_naive['naive_forecast'] = train['Price'][train_len-1]"
   ]
  },
  {
   "cell_type": "code",
   "execution_count": 11,
   "id": "bae26e25",
   "metadata": {},
   "outputs": [
    {
     "data": {
      "image/png": "[encoded data removed]",
      "text/plain": [
       "<Figure size 1008x288 with 1 Axes>"
      ]
     },
     "metadata": {
      "needs_background": "light"
     },
     "output_type": "display_data"
    }
   ],
   "source": [
    "data.plot(figsize=(14, 4))\n",
    "plt.grid()\n",
    "plt.plot(train['Price'], label='Train')\n",
    "plt.plot(test['Price'], label='Test')\n",
    "plt.plot(y_hat_naive['naive_forecast'], label='Naive forecast')\n",
    "plt.legend(loc='best')\n",
    "plt.title('Naive Method')\n",
    "plt.show()"
   ]
  },
  {
   "cell_type": "markdown",
   "id": "4896aa38",
   "metadata": {},
   "source": [
    "### Calculate RMSE and MAPE"
   ]
  },
  {
   "cell_type": "code",
   "execution_count": 12,
   "id": "6e45710f",
   "metadata": {},
   "outputs": [
    {
     "data": {
      "text/html": [
       "<div>\n",
       "<style scoped>\n",
       "    .dataframe tbody tr th:only-of-type {\n",
       "        vertical-align: middle;\n",
       "    }\n",
       "\n",
       "    .dataframe tbody tr th {\n",
       "        vertical-align: top;\n",
       "    }\n",
       "\n",
       "    .dataframe thead th {\n",
       "        text-align: right;\n",
       "    }\n",
       "</style>\n",
       "<table border=\"1\" class=\"dataframe\">\n",
       "  <thead>\n",
       "    <tr style=\"text-align: right;\">\n",
       "      <th></th>\n",
       "      <th>Method</th>\n",
       "      <th>RMSE</th>\n",
       "      <th>MAPE</th>\n",
       "    </tr>\n",
       "  </thead>\n",
       "  <tbody>\n",
       "    <tr>\n",
       "      <th>0</th>\n",
       "      <td>Naive method</td>\n",
       "      <td>1265.9</td>\n",
       "      <td>27.12</td>\n",
       "    </tr>\n",
       "  </tbody>\n",
       "</table>\n",
       "</div>"
      ],
      "text/plain": [
       "         Method    RMSE   MAPE\n",
       "0  Naive method  1265.9  27.12"
      ]
     },
     "execution_count": 12,
     "metadata": {},
     "output_type": "execute_result"
    }
   ],
   "source": [
    "from sklearn.metrics import mean_squared_error\n",
    "rmse = np.sqrt(mean_squared_error(test['Price'], y_hat_naive['naive_forecast'])).round(2)\n",
    "mape = np.round(np.mean(np.abs(test['Price']-y_hat_naive['naive_forecast'])/test['Price'])*100,2)\n",
    "\n",
    "results = pd.DataFrame({'Method':['Naive method'], 'MAPE': [mape], 'RMSE': [rmse]})\n",
    "results = results[['Method', 'RMSE', 'MAPE']]\n",
    "results"
   ]
  },
  {
   "cell_type": "markdown",
   "id": "44acb6f5",
   "metadata": {},
   "source": [
    "### Simple average method"
   ]
  },
  {
   "cell_type": "code",
   "execution_count": 13,
   "id": "e2006d80",
   "metadata": {},
   "outputs": [],
   "source": [
    "y_hat_avg = test.copy()\n",
    "y_hat_avg['avg_forecast'] = train['Price'].mean()"
   ]
  },
  {
   "cell_type": "code",
   "execution_count": 14,
   "id": "cc64aaec",
   "metadata": {},
   "outputs": [
    {
     "data": {
      "image/png": "[encoded data removed]",
      "text/plain": [
       "<Figure size 1008x288 with 1 Axes>"
      ]
     },
     "metadata": {
      "needs_background": "light"
     },
     "output_type": "display_data"
    }
   ],
   "source": [
    "data.plot(figsize=(14, 4))\n",
    "plt.grid()\n",
    "plt.plot(train['Price'], label='Train')\n",
    "plt.plot(test['Price'], label='Test')\n",
    "plt.plot(y_hat_avg['avg_forecast'], label='Simple average forecast')\n",
    "plt.legend(loc='best')\n",
    "plt.title('Simple Average Method')\n",
    "plt.show()"
   ]
  },
  {
   "cell_type": "code",
   "execution_count": 15,
   "id": "64b357cc",
   "metadata": {},
   "outputs": [],
   "source": [
    "### Calculate RMSE and MAPE"
   ]
  },
  {
   "cell_type": "code",
   "execution_count": 16,
   "id": "2d15cd68",
   "metadata": {},
   "outputs": [
    {
     "data": {
      "text/html": [
       "<div>\n",
       "<style scoped>\n",
       "    .dataframe tbody tr th:only-of-type {\n",
       "        vertical-align: middle;\n",
       "    }\n",
       "\n",
       "    .dataframe tbody tr th {\n",
       "        vertical-align: top;\n",
       "    }\n",
       "\n",
       "    .dataframe thead th {\n",
       "        text-align: right;\n",
       "    }\n",
       "</style>\n",
       "<table border=\"1\" class=\"dataframe\">\n",
       "  <thead>\n",
       "    <tr style=\"text-align: right;\">\n",
       "      <th></th>\n",
       "      <th>Method</th>\n",
       "      <th>RMSE</th>\n",
       "      <th>MAPE</th>\n",
       "    </tr>\n",
       "  </thead>\n",
       "  <tbody>\n",
       "    <tr>\n",
       "      <th>0</th>\n",
       "      <td>Naive method</td>\n",
       "      <td>1265.90</td>\n",
       "      <td>27.12</td>\n",
       "    </tr>\n",
       "    <tr>\n",
       "      <th>0</th>\n",
       "      <td>Simple average method</td>\n",
       "      <td>2703.73</td>\n",
       "      <td>80.19</td>\n",
       "    </tr>\n",
       "  </tbody>\n",
       "</table>\n",
       "</div>"
      ],
      "text/plain": [
       "                  Method     RMSE   MAPE\n",
       "0           Naive method  1265.90  27.12\n",
       "0  Simple average method  2703.73  80.19"
      ]
     },
     "execution_count": 16,
     "metadata": {},
     "output_type": "execute_result"
    }
   ],
   "source": [
    "rmse = np.sqrt(mean_squared_error(test['Price'], y_hat_avg['avg_forecast'])).round(2)\n",
    "mape = np.round(np.mean(np.abs(test['Price']-y_hat_avg['avg_forecast'])/test['Price'])*100,2)\n",
    "\n",
    "tempResults = pd.DataFrame({'Method':['Simple average method'], 'RMSE': [rmse],'MAPE': [mape] })\n",
    "results = pd.concat([results, tempResults])\n",
    "results = results[['Method', 'RMSE', 'MAPE']]\n",
    "results"
   ]
  },
  {
   "cell_type": "code",
   "execution_count": null,
   "id": "090fb7bc",
   "metadata": {},
   "outputs": [],
   "source": []
  },
  {
   "cell_type": "markdown",
   "id": "0b8ecab9",
   "metadata": {},
   "source": [
    "### Simple moving average method -12"
   ]
  },
  {
   "cell_type": "code",
   "execution_count": 17,
   "id": "7424733d",
   "metadata": {},
   "outputs": [],
   "source": [
    "y_hat_sma = data.copy()\n",
    "ma_window = 12\n",
    "y_hat_sma['sma_forecast-12'] = data['Price'].rolling(ma_window).mean()\n",
    "y_hat_sma['sma_forecast-12'][train_len:] = y_hat_sma['sma_forecast-12'][train_len-1]"
   ]
  },
  {
   "cell_type": "code",
   "execution_count": 18,
   "id": "a37a8a6b",
   "metadata": {},
   "outputs": [
    {
     "data": {
      "image/png": "[encoded data removed]",
      "text/plain": [
       "<Figure size 1008x288 with 1 Axes>"
      ]
     },
     "metadata": {
      "needs_background": "light"
     },
     "output_type": "display_data"
    }
   ],
   "source": [
    "data.plot(figsize=(14, 4))\n",
    "plt.grid()\n",
    "plt.plot(train['Price'], label='Train')\n",
    "plt.plot(test['Price'], label='Test')\n",
    "plt.plot(y_hat_sma['sma_forecast-12'], label='Simple moving average forecast-12')\n",
    "plt.legend(loc='best')\n",
    "plt.title('Simple Moving Average Method=12')\n",
    "plt.show()"
   ]
  },
  {
   "cell_type": "code",
   "execution_count": 19,
   "id": "0b8a1707",
   "metadata": {},
   "outputs": [],
   "source": [
    "### Calculate RMSE and MAPE"
   ]
  },
  {
   "cell_type": "code",
   "execution_count": 20,
   "id": "d19e6e52",
   "metadata": {},
   "outputs": [
    {
     "data": {
      "text/html": [
       "<div>\n",
       "<style scoped>\n",
       "    .dataframe tbody tr th:only-of-type {\n",
       "        vertical-align: middle;\n",
       "    }\n",
       "\n",
       "    .dataframe tbody tr th {\n",
       "        vertical-align: top;\n",
       "    }\n",
       "\n",
       "    .dataframe thead th {\n",
       "        text-align: right;\n",
       "    }\n",
       "</style>\n",
       "<table border=\"1\" class=\"dataframe\">\n",
       "  <thead>\n",
       "    <tr style=\"text-align: right;\">\n",
       "      <th></th>\n",
       "      <th>Method</th>\n",
       "      <th>RMSE</th>\n",
       "      <th>MAPE</th>\n",
       "    </tr>\n",
       "  </thead>\n",
       "  <tbody>\n",
       "    <tr>\n",
       "      <th>0</th>\n",
       "      <td>Naive method</td>\n",
       "      <td>1265.90</td>\n",
       "      <td>27.12</td>\n",
       "    </tr>\n",
       "    <tr>\n",
       "      <th>0</th>\n",
       "      <td>Simple average method</td>\n",
       "      <td>2703.73</td>\n",
       "      <td>80.19</td>\n",
       "    </tr>\n",
       "    <tr>\n",
       "      <th>0</th>\n",
       "      <td>Simple moving average forecast=12</td>\n",
       "      <td>2338.94</td>\n",
       "      <td>67.42</td>\n",
       "    </tr>\n",
       "  </tbody>\n",
       "</table>\n",
       "</div>"
      ],
      "text/plain": [
       "                              Method     RMSE   MAPE\n",
       "0                       Naive method  1265.90  27.12\n",
       "0              Simple average method  2703.73  80.19\n",
       "0  Simple moving average forecast=12  2338.94  67.42"
      ]
     },
     "execution_count": 20,
     "metadata": {},
     "output_type": "execute_result"
    }
   ],
   "source": [
    "rmse = np.sqrt(mean_squared_error(test['Price'], y_hat_sma['sma_forecast-12'][train_len:])).round(2)\n",
    "mape = np.round(np.mean(np.abs(test['Price']-y_hat_sma['sma_forecast-12'][train_len:])/test['Price'])*100,2)\n",
    "\n",
    "tempResults = pd.DataFrame({'Method':['Simple moving average forecast=12'], 'RMSE': [rmse],'MAPE': [mape] })\n",
    "results = pd.concat([results, tempResults])\n",
    "results = results[['Method', 'RMSE', 'MAPE']]\n",
    "results"
   ]
  },
  {
   "cell_type": "code",
   "execution_count": null,
   "id": "74f7a2e1",
   "metadata": {},
   "outputs": [],
   "source": []
  },
  {
   "cell_type": "markdown",
   "id": "8765cd6b",
   "metadata": {},
   "source": [
    "### Simple moving average method -6"
   ]
  },
  {
   "cell_type": "code",
   "execution_count": 21,
   "id": "5fa4a171",
   "metadata": {},
   "outputs": [],
   "source": [
    "y_hat_sma = data.copy()\n",
    "ma_window = 6\n",
    "y_hat_sma['sma_forecast-6'] = data['Price'].rolling(ma_window).mean()\n",
    "y_hat_sma['sma_forecast-6'][train_len:] = y_hat_sma['sma_forecast-6'][train_len-1]"
   ]
  },
  {
   "cell_type": "code",
   "execution_count": 22,
   "id": "2c44b804",
   "metadata": {},
   "outputs": [
    {
     "data": {
      "image/png": "[encoded data removed]",
      "text/plain": [
       "<Figure size 1008x288 with 1 Axes>"
      ]
     },
     "metadata": {
      "needs_background": "light"
     },
     "output_type": "display_data"
    }
   ],
   "source": [
    "data.plot(figsize=(14, 4))\n",
    "plt.grid()\n",
    "plt.plot(train['Price'], label='Train')\n",
    "plt.plot(test['Price'], label='Test')\n",
    "plt.plot(y_hat_sma['sma_forecast-6'], label='Simple moving average forecast-6')\n",
    "plt.legend(loc='best')\n",
    "plt.title('Simple Moving Average Method-6')\n",
    "plt.show()"
   ]
  },
  {
   "cell_type": "code",
   "execution_count": 23,
   "id": "7ac40e41",
   "metadata": {},
   "outputs": [],
   "source": [
    "### Calculate RMSE and MAPE"
   ]
  },
  {
   "cell_type": "code",
   "execution_count": 24,
   "id": "b583f115",
   "metadata": {},
   "outputs": [
    {
     "data": {
      "text/html": [
       "<div>\n",
       "<style scoped>\n",
       "    .dataframe tbody tr th:only-of-type {\n",
       "        vertical-align: middle;\n",
       "    }\n",
       "\n",
       "    .dataframe tbody tr th {\n",
       "        vertical-align: top;\n",
       "    }\n",
       "\n",
       "    .dataframe thead th {\n",
       "        text-align: right;\n",
       "    }\n",
       "</style>\n",
       "<table border=\"1\" class=\"dataframe\">\n",
       "  <thead>\n",
       "    <tr style=\"text-align: right;\">\n",
       "      <th></th>\n",
       "      <th>Method</th>\n",
       "      <th>RMSE</th>\n",
       "      <th>MAPE</th>\n",
       "    </tr>\n",
       "  </thead>\n",
       "  <tbody>\n",
       "    <tr>\n",
       "      <th>0</th>\n",
       "      <td>Naive method</td>\n",
       "      <td>1265.90</td>\n",
       "      <td>27.12</td>\n",
       "    </tr>\n",
       "    <tr>\n",
       "      <th>0</th>\n",
       "      <td>Simple average method</td>\n",
       "      <td>2703.73</td>\n",
       "      <td>80.19</td>\n",
       "    </tr>\n",
       "    <tr>\n",
       "      <th>0</th>\n",
       "      <td>Simple moving average forecast=12</td>\n",
       "      <td>2338.94</td>\n",
       "      <td>67.42</td>\n",
       "    </tr>\n",
       "    <tr>\n",
       "      <th>0</th>\n",
       "      <td>Simple moving average forecast-6</td>\n",
       "      <td>2035.79</td>\n",
       "      <td>56.61</td>\n",
       "    </tr>\n",
       "  </tbody>\n",
       "</table>\n",
       "</div>"
      ],
      "text/plain": [
       "                              Method     RMSE   MAPE\n",
       "0                       Naive method  1265.90  27.12\n",
       "0              Simple average method  2703.73  80.19\n",
       "0  Simple moving average forecast=12  2338.94  67.42\n",
       "0   Simple moving average forecast-6  2035.79  56.61"
      ]
     },
     "execution_count": 24,
     "metadata": {},
     "output_type": "execute_result"
    }
   ],
   "source": [
    "rmse = np.sqrt(mean_squared_error(test['Price'], y_hat_sma['sma_forecast-6'][train_len:])).round(2)\n",
    "mape = np.round(np.mean(np.abs(test['Price']-y_hat_sma['sma_forecast-6'][train_len:])/test['Price'])*100,2)\n",
    "\n",
    "tempResults = pd.DataFrame({'Method':['Simple moving average forecast-6'], 'RMSE': [rmse],'MAPE': [mape] })\n",
    "results = pd.concat([results, tempResults])\n",
    "results = results[['Method', 'RMSE', 'MAPE']]\n",
    "results"
   ]
  },
  {
   "cell_type": "code",
   "execution_count": null,
   "id": "7f1736c6",
   "metadata": {},
   "outputs": [],
   "source": []
  },
  {
   "cell_type": "markdown",
   "id": "ac88e764",
   "metadata": {},
   "source": [
    "### Simple moving average method -3"
   ]
  },
  {
   "cell_type": "code",
   "execution_count": 25,
   "id": "ed1f60ee",
   "metadata": {},
   "outputs": [],
   "source": [
    "y_hat_sma = data.copy()\n",
    "ma_window = 3\n",
    "y_hat_sma['sma_forecast-3'] = data['Price'].rolling(ma_window).mean()\n",
    "y_hat_sma['sma_forecast-3'][train_len:] = y_hat_sma['sma_forecast-3'][train_len-1]"
   ]
  },
  {
   "cell_type": "code",
   "execution_count": 26,
   "id": "d9b1d12b",
   "metadata": {},
   "outputs": [
    {
     "data": {
      "image/png": "[encoded data removed]",
      "text/plain": [
       "<Figure size 1008x288 with 1 Axes>"
      ]
     },
     "metadata": {
      "needs_background": "light"
     },
     "output_type": "display_data"
    }
   ],
   "source": [
    "data.plot(figsize=(14, 4))\n",
    "plt.grid()\n",
    "plt.plot(train['Price'], label='Train')\n",
    "plt.plot(test['Price'], label='Test')\n",
    "plt.plot(y_hat_sma['sma_forecast-3'], label='Simple moving average forecast-3')\n",
    "plt.legend(loc='best')\n",
    "plt.title('Simple Moving Average Method-3')\n",
    "plt.show()"
   ]
  },
  {
   "cell_type": "code",
   "execution_count": 27,
   "id": "0ad4b57f",
   "metadata": {},
   "outputs": [],
   "source": [
    "### Calculate RMSE and MAPE"
   ]
  },
  {
   "cell_type": "code",
   "execution_count": 28,
   "id": "d68fca1b",
   "metadata": {},
   "outputs": [
    {
     "data": {
      "text/html": [
       "<div>\n",
       "<style scoped>\n",
       "    .dataframe tbody tr th:only-of-type {\n",
       "        vertical-align: middle;\n",
       "    }\n",
       "\n",
       "    .dataframe tbody tr th {\n",
       "        vertical-align: top;\n",
       "    }\n",
       "\n",
       "    .dataframe thead th {\n",
       "        text-align: right;\n",
       "    }\n",
       "</style>\n",
       "<table border=\"1\" class=\"dataframe\">\n",
       "  <thead>\n",
       "    <tr style=\"text-align: right;\">\n",
       "      <th></th>\n",
       "      <th>Method</th>\n",
       "      <th>RMSE</th>\n",
       "      <th>MAPE</th>\n",
       "    </tr>\n",
       "  </thead>\n",
       "  <tbody>\n",
       "    <tr>\n",
       "      <th>0</th>\n",
       "      <td>Naive method</td>\n",
       "      <td>1265.90</td>\n",
       "      <td>27.12</td>\n",
       "    </tr>\n",
       "    <tr>\n",
       "      <th>0</th>\n",
       "      <td>Simple average method</td>\n",
       "      <td>2703.73</td>\n",
       "      <td>80.19</td>\n",
       "    </tr>\n",
       "    <tr>\n",
       "      <th>0</th>\n",
       "      <td>Simple moving average forecast=12</td>\n",
       "      <td>2338.94</td>\n",
       "      <td>67.42</td>\n",
       "    </tr>\n",
       "    <tr>\n",
       "      <th>0</th>\n",
       "      <td>Simple moving average forecast-6</td>\n",
       "      <td>2035.79</td>\n",
       "      <td>56.61</td>\n",
       "    </tr>\n",
       "    <tr>\n",
       "      <th>0</th>\n",
       "      <td>Simple moving average forecast-3</td>\n",
       "      <td>1794.92</td>\n",
       "      <td>47.81</td>\n",
       "    </tr>\n",
       "  </tbody>\n",
       "</table>\n",
       "</div>"
      ],
      "text/plain": [
       "                              Method     RMSE   MAPE\n",
       "0                       Naive method  1265.90  27.12\n",
       "0              Simple average method  2703.73  80.19\n",
       "0  Simple moving average forecast=12  2338.94  67.42\n",
       "0   Simple moving average forecast-6  2035.79  56.61\n",
       "0   Simple moving average forecast-3  1794.92  47.81"
      ]
     },
     "execution_count": 28,
     "metadata": {},
     "output_type": "execute_result"
    }
   ],
   "source": [
    "rmse = np.sqrt(mean_squared_error(test['Price'], y_hat_sma['sma_forecast-3'][train_len:])).round(2)\n",
    "mape = np.round(np.mean(np.abs(test['Price']-y_hat_sma['sma_forecast-3'][train_len:])/test['Price'])*100,2)\n",
    "\n",
    "tempResults = pd.DataFrame({'Method':['Simple moving average forecast-3'], 'RMSE': [rmse],'MAPE': [mape] })\n",
    "results = pd.concat([results, tempResults])\n",
    "results = results[['Method', 'RMSE', 'MAPE']]\n",
    "results"
   ]
  },
  {
   "cell_type": "code",
   "execution_count": null,
   "id": "e47c2c1c",
   "metadata": {},
   "outputs": [],
   "source": []
  },
  {
   "cell_type": "markdown",
   "id": "386f4a04",
   "metadata": {},
   "source": [
    "## Exponential smoothing methods"
   ]
  },
  {
   "cell_type": "markdown",
   "id": "c16740ca",
   "metadata": {},
   "source": [
    "### Simple exponential smoothing"
   ]
  },
  {
   "cell_type": "code",
   "execution_count": 29,
   "id": "a1159d68",
   "metadata": {},
   "outputs": [
    {
     "name": "stderr",
     "output_type": "stream",
     "text": [
      "C:\\ProgramData\\Anaconda3\\lib\\site-packages\\statsmodels\\tsa\\base\\tsa_model.py:471: ValueWarning: No frequency information was provided, so inferred frequency MS will be used.\n",
      "  self._init_dates(dates, freq)\n"
     ]
    }
   ],
   "source": [
    "from statsmodels.tsa.holtwinters import SimpleExpSmoothing\n",
    "model = SimpleExpSmoothing(train['Price'])\n",
    "model_fit = model.fit(optimized=True)\n",
    "model_fit.params\n",
    "y_hat_ses = test.copy()\n",
    "y_hat_ses['ses_forecast'] = model_fit.forecast(len(test))"
   ]
  },
  {
   "cell_type": "code",
   "execution_count": null,
   "id": "30663f99",
   "metadata": {},
   "outputs": [],
   "source": []
  },
  {
   "cell_type": "code",
   "execution_count": 30,
   "id": "4d12442f",
   "metadata": {},
   "outputs": [
    {
     "data": {
      "image/png": "[encoded data removed]",
      "text/plain": [
       "<Figure size 1008x288 with 1 Axes>"
      ]
     },
     "metadata": {
      "needs_background": "light"
     },
     "output_type": "display_data"
    }
   ],
   "source": [
    "data.plot(figsize=(14, 4))\n",
    "plt.grid()\n",
    "plt.plot(train['Price'], label='Train')\n",
    "plt.plot(test['Price'], label='Test')\n",
    "plt.plot(y_hat_ses['ses_forecast'], label='Simple exponential smoothing forecast')\n",
    "plt.legend(loc='best')\n",
    "plt.title('Simple Exponential Smoothing Method')\n",
    "plt.show()"
   ]
  },
  {
   "cell_type": "code",
   "execution_count": 31,
   "id": "e099f243",
   "metadata": {},
   "outputs": [],
   "source": [
    "### Calculate RMSE and MAPE"
   ]
  },
  {
   "cell_type": "code",
   "execution_count": 32,
   "id": "c9a8af98",
   "metadata": {},
   "outputs": [
    {
     "data": {
      "text/html": [
       "<div>\n",
       "<style scoped>\n",
       "    .dataframe tbody tr th:only-of-type {\n",
       "        vertical-align: middle;\n",
       "    }\n",
       "\n",
       "    .dataframe tbody tr th {\n",
       "        vertical-align: top;\n",
       "    }\n",
       "\n",
       "    .dataframe thead th {\n",
       "        text-align: right;\n",
       "    }\n",
       "</style>\n",
       "<table border=\"1\" class=\"dataframe\">\n",
       "  <thead>\n",
       "    <tr style=\"text-align: right;\">\n",
       "      <th></th>\n",
       "      <th>Method</th>\n",
       "      <th>RMSE</th>\n",
       "      <th>MAPE</th>\n",
       "    </tr>\n",
       "  </thead>\n",
       "  <tbody>\n",
       "    <tr>\n",
       "      <th>0</th>\n",
       "      <td>Naive method</td>\n",
       "      <td>1265.90</td>\n",
       "      <td>27.12</td>\n",
       "    </tr>\n",
       "    <tr>\n",
       "      <th>0</th>\n",
       "      <td>Simple average method</td>\n",
       "      <td>2703.73</td>\n",
       "      <td>80.19</td>\n",
       "    </tr>\n",
       "    <tr>\n",
       "      <th>0</th>\n",
       "      <td>Simple moving average forecast=12</td>\n",
       "      <td>2338.94</td>\n",
       "      <td>67.42</td>\n",
       "    </tr>\n",
       "    <tr>\n",
       "      <th>0</th>\n",
       "      <td>Simple moving average forecast-6</td>\n",
       "      <td>2035.79</td>\n",
       "      <td>56.61</td>\n",
       "    </tr>\n",
       "    <tr>\n",
       "      <th>0</th>\n",
       "      <td>Simple moving average forecast-3</td>\n",
       "      <td>1794.92</td>\n",
       "      <td>47.81</td>\n",
       "    </tr>\n",
       "    <tr>\n",
       "      <th>0</th>\n",
       "      <td>Simple exponential smoothing forecast</td>\n",
       "      <td>1268.86</td>\n",
       "      <td>27.25</td>\n",
       "    </tr>\n",
       "  </tbody>\n",
       "</table>\n",
       "</div>"
      ],
      "text/plain": [
       "                                  Method     RMSE   MAPE\n",
       "0                           Naive method  1265.90  27.12\n",
       "0                  Simple average method  2703.73  80.19\n",
       "0      Simple moving average forecast=12  2338.94  67.42\n",
       "0       Simple moving average forecast-6  2035.79  56.61\n",
       "0       Simple moving average forecast-3  1794.92  47.81\n",
       "0  Simple exponential smoothing forecast  1268.86  27.25"
      ]
     },
     "execution_count": 32,
     "metadata": {},
     "output_type": "execute_result"
    }
   ],
   "source": [
    "rmse = np.sqrt(mean_squared_error(test['Price'], y_hat_ses['ses_forecast'])).round(2)\n",
    "mape = np.round(np.mean(np.abs(test['Price']-y_hat_ses['ses_forecast'])/test['Price'])*100,2)\n",
    "\n",
    "tempResults = pd.DataFrame({'Method':['Simple exponential smoothing forecast'], 'RMSE': [rmse],'MAPE': [mape] })\n",
    "results = pd.concat([results, tempResults])\n",
    "results"
   ]
  },
  {
   "cell_type": "code",
   "execution_count": null,
   "id": "4395bc9f",
   "metadata": {},
   "outputs": [],
   "source": []
  },
  {
   "cell_type": "markdown",
   "id": "bd053924",
   "metadata": {},
   "source": [
    "### Holt's method with trend"
   ]
  },
  {
   "cell_type": "code",
   "execution_count": 33,
   "id": "af217e9b",
   "metadata": {},
   "outputs": [
    {
     "name": "stdout",
     "output_type": "stream",
     "text": [
      "{'smoothing_level': 0.995, 'smoothing_trend': 0.4264285714285714, 'smoothing_seasonal': nan, 'damping_trend': nan, 'initial_level': 222.41999999999987, 'initial_trend': 5.2600000000000176, 'initial_seasons': array([], dtype=float64), 'use_boxcox': False, 'lamda': None, 'remove_bias': False}\n"
     ]
    }
   ],
   "source": [
    "from statsmodels.tsa.holtwinters import ExponentialSmoothing\n",
    "model = ExponentialSmoothing(np.asarray(train['Price']) ,trend='additive', seasonal=None)\n",
    "model_fit = model.fit(optimized=True)\n",
    "print(model_fit.params)\n",
    "y_hat_holt = test.copy()\n",
    "y_hat_holt['holt_forecast'] = model_fit.forecast(len(test))"
   ]
  },
  {
   "cell_type": "code",
   "execution_count": 34,
   "id": "36abae1b",
   "metadata": {},
   "outputs": [
    {
     "data": {
      "image/png": "[encoded data removed]",
      "text/plain": [
       "<Figure size 1008x288 with 1 Axes>"
      ]
     },
     "metadata": {
      "needs_background": "light"
     },
     "output_type": "display_data"
    }
   ],
   "source": [
    "data.plot(figsize=(14, 4))\n",
    "plt.grid()\n",
    "plt.plot( train['Price'], label='Train')\n",
    "plt.plot(test['Price'], label='Test')\n",
    "plt.plot(y_hat_holt['holt_forecast'], label='Holt\\'s exponential smoothing forecast')\n",
    "plt.legend(loc='best')\n",
    "plt.title('Holt\\'s Exponential Smoothing Method')\n",
    "plt.show()"
   ]
  },
  {
   "cell_type": "code",
   "execution_count": 35,
   "id": "3e738d2f",
   "metadata": {},
   "outputs": [],
   "source": [
    "### Calculate RMSE and MAPE"
   ]
  },
  {
   "cell_type": "code",
   "execution_count": 36,
   "id": "acb88b8e",
   "metadata": {},
   "outputs": [
    {
     "data": {
      "text/html": [
       "<div>\n",
       "<style scoped>\n",
       "    .dataframe tbody tr th:only-of-type {\n",
       "        vertical-align: middle;\n",
       "    }\n",
       "\n",
       "    .dataframe tbody tr th {\n",
       "        vertical-align: top;\n",
       "    }\n",
       "\n",
       "    .dataframe thead th {\n",
       "        text-align: right;\n",
       "    }\n",
       "</style>\n",
       "<table border=\"1\" class=\"dataframe\">\n",
       "  <thead>\n",
       "    <tr style=\"text-align: right;\">\n",
       "      <th></th>\n",
       "      <th>Method</th>\n",
       "      <th>RMSE</th>\n",
       "      <th>MAPE</th>\n",
       "    </tr>\n",
       "  </thead>\n",
       "  <tbody>\n",
       "    <tr>\n",
       "      <th>0</th>\n",
       "      <td>Naive method</td>\n",
       "      <td>1265.90</td>\n",
       "      <td>27.12</td>\n",
       "    </tr>\n",
       "    <tr>\n",
       "      <th>0</th>\n",
       "      <td>Simple average method</td>\n",
       "      <td>2703.73</td>\n",
       "      <td>80.19</td>\n",
       "    </tr>\n",
       "    <tr>\n",
       "      <th>0</th>\n",
       "      <td>Simple moving average forecast=12</td>\n",
       "      <td>2338.94</td>\n",
       "      <td>67.42</td>\n",
       "    </tr>\n",
       "    <tr>\n",
       "      <th>0</th>\n",
       "      <td>Simple moving average forecast-6</td>\n",
       "      <td>2035.79</td>\n",
       "      <td>56.61</td>\n",
       "    </tr>\n",
       "    <tr>\n",
       "      <th>0</th>\n",
       "      <td>Simple moving average forecast-3</td>\n",
       "      <td>1794.92</td>\n",
       "      <td>47.81</td>\n",
       "    </tr>\n",
       "    <tr>\n",
       "      <th>0</th>\n",
       "      <td>Simple exponential smoothing forecast</td>\n",
       "      <td>1268.86</td>\n",
       "      <td>27.25</td>\n",
       "    </tr>\n",
       "    <tr>\n",
       "      <th>0</th>\n",
       "      <td>Holt's exponential smoothing method</td>\n",
       "      <td>497.91</td>\n",
       "      <td>10.99</td>\n",
       "    </tr>\n",
       "  </tbody>\n",
       "</table>\n",
       "</div>"
      ],
      "text/plain": [
       "                                  Method     RMSE   MAPE\n",
       "0                           Naive method  1265.90  27.12\n",
       "0                  Simple average method  2703.73  80.19\n",
       "0      Simple moving average forecast=12  2338.94  67.42\n",
       "0       Simple moving average forecast-6  2035.79  56.61\n",
       "0       Simple moving average forecast-3  1794.92  47.81\n",
       "0  Simple exponential smoothing forecast  1268.86  27.25\n",
       "0    Holt's exponential smoothing method   497.91  10.99"
      ]
     },
     "execution_count": 36,
     "metadata": {},
     "output_type": "execute_result"
    }
   ],
   "source": [
    "rmse = np.sqrt(mean_squared_error(test['Price'], y_hat_holt['holt_forecast'])).round(2)\n",
    "mape = np.round(np.mean(np.abs(test['Price']-y_hat_holt['holt_forecast'])/test['Price'])*100,2)\n",
    "\n",
    "tempResults = pd.DataFrame({'Method':['Holt\\'s exponential smoothing method'], 'RMSE': [rmse],'MAPE': [mape] })\n",
    "results = pd.concat([results, tempResults])\n",
    "results = results[['Method', 'RMSE', 'MAPE']]\n",
    "results"
   ]
  },
  {
   "cell_type": "code",
   "execution_count": null,
   "id": "71cdb87a",
   "metadata": {},
   "outputs": [],
   "source": []
  },
  {
   "cell_type": "markdown",
   "id": "b805ca5b",
   "metadata": {},
   "source": [
    "### Holt Winters' additive method with trend and seasonality"
   ]
  },
  {
   "cell_type": "code",
   "execution_count": 37,
   "id": "0dd0c216",
   "metadata": {},
   "outputs": [
    {
     "name": "stdout",
     "output_type": "stream",
     "text": [
      "{'smoothing_level': 0.9950517210446927, 'smoothing_trend': 0.43233248249505807, 'smoothing_seasonal': 9.794185542721287e-05, 'damping_trend': nan, 'initial_level': 207.38376669340138, 'initial_trend': 11.058267257446873, 'initial_seasons': array([-18.44232989,  17.15290339,   1.40628408]), 'use_boxcox': False, 'lamda': None, 'remove_bias': False}\n"
     ]
    }
   ],
   "source": [
    "y_hat_hwa = test.copy()\n",
    "model = ExponentialSmoothing(np.asarray(train['Price']),seasonal_periods=3,trend='add', seasonal='add')\n",
    "model_fit = model.fit(optimized=True)\n",
    "print(model_fit.params)\n",
    "y_hat_hwa['hw_forecast'] = model_fit.forecast(len(test))"
   ]
  },
  {
   "cell_type": "code",
   "execution_count": 38,
   "id": "260360e6",
   "metadata": {},
   "outputs": [
    {
     "data": {
      "image/png": "[encoded data removed]",
      "text/plain": [
       "<Figure size 1008x288 with 1 Axes>"
      ]
     },
     "metadata": {
      "needs_background": "light"
     },
     "output_type": "display_data"
    }
   ],
   "source": [
    "data.plot(figsize=(14, 4))\n",
    "plt.grid()\n",
    "plt.plot( train['Price'], label='Train')\n",
    "plt.plot(test['Price'], label='Test')\n",
    "plt.plot(y_hat_hwa['hw_forecast'], label='Holt Winters\\'s additive forecast')\n",
    "plt.legend(loc='best')\n",
    "plt.title('Holt Winters\\' Additive Method')\n",
    "plt.show()"
   ]
  },
  {
   "cell_type": "code",
   "execution_count": 39,
   "id": "fd4b1964",
   "metadata": {},
   "outputs": [],
   "source": [
    "### Calculate RMSE and MAPE"
   ]
  },
  {
   "cell_type": "code",
   "execution_count": 40,
   "id": "fee80157",
   "metadata": {},
   "outputs": [
    {
     "data": {
      "text/html": [
       "<div>\n",
       "<style scoped>\n",
       "    .dataframe tbody tr th:only-of-type {\n",
       "        vertical-align: middle;\n",
       "    }\n",
       "\n",
       "    .dataframe tbody tr th {\n",
       "        vertical-align: top;\n",
       "    }\n",
       "\n",
       "    .dataframe thead th {\n",
       "        text-align: right;\n",
       "    }\n",
       "</style>\n",
       "<table border=\"1\" class=\"dataframe\">\n",
       "  <thead>\n",
       "    <tr style=\"text-align: right;\">\n",
       "      <th></th>\n",
       "      <th>Method</th>\n",
       "      <th>RMSE</th>\n",
       "      <th>MAPE</th>\n",
       "    </tr>\n",
       "  </thead>\n",
       "  <tbody>\n",
       "    <tr>\n",
       "      <th>0</th>\n",
       "      <td>Naive method</td>\n",
       "      <td>1265.90</td>\n",
       "      <td>27.12</td>\n",
       "    </tr>\n",
       "    <tr>\n",
       "      <th>0</th>\n",
       "      <td>Simple average method</td>\n",
       "      <td>2703.73</td>\n",
       "      <td>80.19</td>\n",
       "    </tr>\n",
       "    <tr>\n",
       "      <th>0</th>\n",
       "      <td>Simple moving average forecast=12</td>\n",
       "      <td>2338.94</td>\n",
       "      <td>67.42</td>\n",
       "    </tr>\n",
       "    <tr>\n",
       "      <th>0</th>\n",
       "      <td>Simple moving average forecast-6</td>\n",
       "      <td>2035.79</td>\n",
       "      <td>56.61</td>\n",
       "    </tr>\n",
       "    <tr>\n",
       "      <th>0</th>\n",
       "      <td>Simple moving average forecast-3</td>\n",
       "      <td>1794.92</td>\n",
       "      <td>47.81</td>\n",
       "    </tr>\n",
       "    <tr>\n",
       "      <th>0</th>\n",
       "      <td>Simple exponential smoothing forecast</td>\n",
       "      <td>1268.86</td>\n",
       "      <td>27.25</td>\n",
       "    </tr>\n",
       "    <tr>\n",
       "      <th>0</th>\n",
       "      <td>Holt's exponential smoothing method</td>\n",
       "      <td>497.91</td>\n",
       "      <td>10.99</td>\n",
       "    </tr>\n",
       "    <tr>\n",
       "      <th>0</th>\n",
       "      <td>Holt Winters' additive method</td>\n",
       "      <td>500.38</td>\n",
       "      <td>10.28</td>\n",
       "    </tr>\n",
       "  </tbody>\n",
       "</table>\n",
       "</div>"
      ],
      "text/plain": [
       "                                  Method     RMSE   MAPE\n",
       "0                           Naive method  1265.90  27.12\n",
       "0                  Simple average method  2703.73  80.19\n",
       "0      Simple moving average forecast=12  2338.94  67.42\n",
       "0       Simple moving average forecast-6  2035.79  56.61\n",
       "0       Simple moving average forecast-3  1794.92  47.81\n",
       "0  Simple exponential smoothing forecast  1268.86  27.25\n",
       "0    Holt's exponential smoothing method   497.91  10.99\n",
       "0          Holt Winters' additive method   500.38  10.28"
      ]
     },
     "execution_count": 40,
     "metadata": {},
     "output_type": "execute_result"
    }
   ],
   "source": [
    "rmse = np.sqrt(mean_squared_error(test['Price'], y_hat_hwa['hw_forecast'])).round(2)\n",
    "mape = np.round(np.mean(np.abs(test['Price']-y_hat_hwa['hw_forecast'])/test['Price'])*100,2)\n",
    "\n",
    "tempResults = pd.DataFrame({'Method':['Holt Winters\\' additive method'], 'RMSE': [rmse],'MAPE': [mape] })\n",
    "results = pd.concat([results, tempResults])\n",
    "results = results[['Method', 'RMSE', 'MAPE']]\n",
    "results"
   ]
  },
  {
   "cell_type": "markdown",
   "id": "f6be7965",
   "metadata": {},
   "source": [
    "### Forcast on basis of SMA"
   ]
  },
  {
   "cell_type": "code",
   "execution_count": 41,
   "id": "06879e2a",
   "metadata": {},
   "outputs": [],
   "source": [
    "y_hat_sma = data.copy()\n",
    "ma_window12 =12\n",
    "y_hat_sma['sma_forecast12'] = data['Price'].rolling(ma_window12).mean()\n",
    "y_hat_sma['sma_forecast12'][train_len:] = y_hat_sma['sma_forecast12'][train_len-1]\n",
    "ma_window9 =9\n",
    "y_hat_sma['sma_forecast9'] = data['Price'].rolling(ma_window9).mean()\n",
    "y_hat_sma['sma_forecast9'][train_len:] = y_hat_sma['sma_forecast9'][train_len-1]\n",
    "ma_window6 =6\n",
    "y_hat_sma['sma_forecast6'] = data['Price'].rolling(ma_window6).mean()\n",
    "y_hat_sma['sma_forecast6'][train_len:] = y_hat_sma['sma_forecast6'][train_len-1]\n",
    "ma_window3 =3\n",
    "y_hat_sma['sma_forecast3'] = data['Price'].rolling(ma_window3).mean()\n",
    "y_hat_sma['sma_forecast3'][train_len:] = y_hat_sma['sma_forecast3'][train_len-1]\n",
    "ma_window2 =2\n",
    "y_hat_sma['sma_forecast2'] = data['Price'].rolling(ma_window9).mean()\n",
    "y_hat_sma['sma_forecast2'][train_len:] = y_hat_sma['sma_forecast2'][train_len-1]\n",
    "ma_window1 =1\n",
    "y_hat_sma['sma_forecast1'] = data['Price'].rolling(ma_window1).mean()\n",
    "y_hat_sma['sma_forecast1'][train_len:] = y_hat_sma['sma_forecast1'][train_len-1]\n"
   ]
  },
  {
   "cell_type": "code",
   "execution_count": 42,
   "id": "e8badd1f",
   "metadata": {},
   "outputs": [
    {
     "data": {
      "text/html": [
       "<div>\n",
       "<style scoped>\n",
       "    .dataframe tbody tr th:only-of-type {\n",
       "        vertical-align: middle;\n",
       "    }\n",
       "\n",
       "    .dataframe tbody tr th {\n",
       "        vertical-align: top;\n",
       "    }\n",
       "\n",
       "    .dataframe thead th {\n",
       "        text-align: right;\n",
       "    }\n",
       "</style>\n",
       "<table border=\"1\" class=\"dataframe\">\n",
       "  <thead>\n",
       "    <tr style=\"text-align: right;\">\n",
       "      <th></th>\n",
       "      <th>Price</th>\n",
       "      <th>sma_forecast12</th>\n",
       "      <th>sma_forecast9</th>\n",
       "      <th>sma_forecast6</th>\n",
       "      <th>sma_forecast3</th>\n",
       "      <th>sma_forecast2</th>\n",
       "      <th>sma_forecast1</th>\n",
       "    </tr>\n",
       "    <tr>\n",
       "      <th>Months</th>\n",
       "      <th></th>\n",
       "      <th></th>\n",
       "      <th></th>\n",
       "      <th></th>\n",
       "      <th></th>\n",
       "      <th></th>\n",
       "      <th></th>\n",
       "    </tr>\n",
       "  </thead>\n",
       "  <tbody>\n",
       "    <tr>\n",
       "      <th>2018-01-01</th>\n",
       "      <td>217.4</td>\n",
       "      <td>NaN</td>\n",
       "      <td>NaN</td>\n",
       "      <td>NaN</td>\n",
       "      <td>NaN</td>\n",
       "      <td>NaN</td>\n",
       "      <td>217.4</td>\n",
       "    </tr>\n",
       "    <tr>\n",
       "      <th>2018-02-01</th>\n",
       "      <td>255.7</td>\n",
       "      <td>NaN</td>\n",
       "      <td>NaN</td>\n",
       "      <td>NaN</td>\n",
       "      <td>NaN</td>\n",
       "      <td>NaN</td>\n",
       "      <td>255.7</td>\n",
       "    </tr>\n",
       "    <tr>\n",
       "      <th>2018-03-01</th>\n",
       "      <td>244.3</td>\n",
       "      <td>NaN</td>\n",
       "      <td>NaN</td>\n",
       "      <td>NaN</td>\n",
       "      <td>239.133333</td>\n",
       "      <td>NaN</td>\n",
       "      <td>244.3</td>\n",
       "    </tr>\n",
       "    <tr>\n",
       "      <th>2018-04-01</th>\n",
       "      <td>236.1</td>\n",
       "      <td>NaN</td>\n",
       "      <td>NaN</td>\n",
       "      <td>NaN</td>\n",
       "      <td>245.366667</td>\n",
       "      <td>NaN</td>\n",
       "      <td>236.1</td>\n",
       "    </tr>\n",
       "    <tr>\n",
       "      <th>2018-05-01</th>\n",
       "      <td>228.7</td>\n",
       "      <td>NaN</td>\n",
       "      <td>NaN</td>\n",
       "      <td>NaN</td>\n",
       "      <td>236.366667</td>\n",
       "      <td>NaN</td>\n",
       "      <td>228.7</td>\n",
       "    </tr>\n",
       "    <tr>\n",
       "      <th>2018-06-01</th>\n",
       "      <td>262.9</td>\n",
       "      <td>NaN</td>\n",
       "      <td>NaN</td>\n",
       "      <td>240.850000</td>\n",
       "      <td>242.566667</td>\n",
       "      <td>NaN</td>\n",
       "      <td>262.9</td>\n",
       "    </tr>\n",
       "    <tr>\n",
       "      <th>2018-07-01</th>\n",
       "      <td>284.5</td>\n",
       "      <td>NaN</td>\n",
       "      <td>NaN</td>\n",
       "      <td>252.033333</td>\n",
       "      <td>258.700000</td>\n",
       "      <td>NaN</td>\n",
       "      <td>284.5</td>\n",
       "    </tr>\n",
       "    <tr>\n",
       "      <th>2018-08-01</th>\n",
       "      <td>231.4</td>\n",
       "      <td>NaN</td>\n",
       "      <td>NaN</td>\n",
       "      <td>247.983333</td>\n",
       "      <td>259.600000</td>\n",
       "      <td>NaN</td>\n",
       "      <td>231.4</td>\n",
       "    </tr>\n",
       "    <tr>\n",
       "      <th>2018-09-01</th>\n",
       "      <td>236.5</td>\n",
       "      <td>NaN</td>\n",
       "      <td>244.166667</td>\n",
       "      <td>246.683333</td>\n",
       "      <td>250.800000</td>\n",
       "      <td>244.166667</td>\n",
       "      <td>236.5</td>\n",
       "    </tr>\n",
       "    <tr>\n",
       "      <th>2018-10-01</th>\n",
       "      <td>316.0</td>\n",
       "      <td>NaN</td>\n",
       "      <td>255.122222</td>\n",
       "      <td>260.000000</td>\n",
       "      <td>261.300000</td>\n",
       "      <td>255.122222</td>\n",
       "      <td>316.0</td>\n",
       "    </tr>\n",
       "    <tr>\n",
       "      <th>2018-11-01</th>\n",
       "      <td>376.9</td>\n",
       "      <td>NaN</td>\n",
       "      <td>268.588889</td>\n",
       "      <td>284.700000</td>\n",
       "      <td>309.800000</td>\n",
       "      <td>268.588889</td>\n",
       "      <td>376.9</td>\n",
       "    </tr>\n",
       "    <tr>\n",
       "      <th>2018-12-01</th>\n",
       "      <td>429.0</td>\n",
       "      <td>276.616667</td>\n",
       "      <td>289.111111</td>\n",
       "      <td>312.383333</td>\n",
       "      <td>373.966667</td>\n",
       "      <td>289.111111</td>\n",
       "      <td>429.0</td>\n",
       "    </tr>\n",
       "    <tr>\n",
       "      <th>2019-01-01</th>\n",
       "      <td>365.5</td>\n",
       "      <td>288.958333</td>\n",
       "      <td>303.488889</td>\n",
       "      <td>325.883333</td>\n",
       "      <td>390.466667</td>\n",
       "      <td>303.488889</td>\n",
       "      <td>365.5</td>\n",
       "    </tr>\n",
       "    <tr>\n",
       "      <th>2019-02-01</th>\n",
       "      <td>439.2</td>\n",
       "      <td>304.250000</td>\n",
       "      <td>326.877778</td>\n",
       "      <td>360.516667</td>\n",
       "      <td>411.233333</td>\n",
       "      <td>326.877778</td>\n",
       "      <td>439.2</td>\n",
       "    </tr>\n",
       "    <tr>\n",
       "      <th>2019-03-01</th>\n",
       "      <td>416.0</td>\n",
       "      <td>318.558333</td>\n",
       "      <td>343.888889</td>\n",
       "      <td>390.433333</td>\n",
       "      <td>406.900000</td>\n",
       "      <td>343.888889</td>\n",
       "      <td>416.0</td>\n",
       "    </tr>\n",
       "    <tr>\n",
       "      <th>2019-04-01</th>\n",
       "      <td>446.6</td>\n",
       "      <td>336.100000</td>\n",
       "      <td>361.900000</td>\n",
       "      <td>412.200000</td>\n",
       "      <td>433.933333</td>\n",
       "      <td>361.900000</td>\n",
       "      <td>446.6</td>\n",
       "    </tr>\n",
       "    <tr>\n",
       "      <th>2019-05-01</th>\n",
       "      <td>530.7</td>\n",
       "      <td>361.266667</td>\n",
       "      <td>395.155556</td>\n",
       "      <td>437.833333</td>\n",
       "      <td>464.433333</td>\n",
       "      <td>395.155556</td>\n",
       "      <td>530.7</td>\n",
       "    </tr>\n",
       "    <tr>\n",
       "      <th>2019-06-01</th>\n",
       "      <td>674.7</td>\n",
       "      <td>395.583333</td>\n",
       "      <td>443.844444</td>\n",
       "      <td>478.783333</td>\n",
       "      <td>550.666667</td>\n",
       "      <td>443.844444</td>\n",
       "      <td>674.7</td>\n",
       "    </tr>\n",
       "    <tr>\n",
       "      <th>2019-07-01</th>\n",
       "      <td>623.7</td>\n",
       "      <td>423.850000</td>\n",
       "      <td>478.033333</td>\n",
       "      <td>521.816667</td>\n",
       "      <td>609.700000</td>\n",
       "      <td>478.033333</td>\n",
       "      <td>623.7</td>\n",
       "    </tr>\n",
       "    <tr>\n",
       "      <th>2019-08-01</th>\n",
       "      <td>576.2</td>\n",
       "      <td>452.583333</td>\n",
       "      <td>500.177778</td>\n",
       "      <td>544.650000</td>\n",
       "      <td>624.866667</td>\n",
       "      <td>500.177778</td>\n",
       "      <td>576.2</td>\n",
       "    </tr>\n",
       "  </tbody>\n",
       "</table>\n",
       "</div>"
      ],
      "text/plain": [
       "            Price  sma_forecast12  sma_forecast9  sma_forecast6  \\\n",
       "Months                                                            \n",
       "2018-01-01  217.4             NaN            NaN            NaN   \n",
       "2018-02-01  255.7             NaN            NaN            NaN   \n",
       "2018-03-01  244.3             NaN            NaN            NaN   \n",
       "2018-04-01  236.1             NaN            NaN            NaN   \n",
       "2018-05-01  228.7             NaN            NaN            NaN   \n",
       "2018-06-01  262.9             NaN            NaN     240.850000   \n",
       "2018-07-01  284.5             NaN            NaN     252.033333   \n",
       "2018-08-01  231.4             NaN            NaN     247.983333   \n",
       "2018-09-01  236.5             NaN     244.166667     246.683333   \n",
       "2018-10-01  316.0             NaN     255.122222     260.000000   \n",
       "2018-11-01  376.9             NaN     268.588889     284.700000   \n",
       "2018-12-01  429.0      276.616667     289.111111     312.383333   \n",
       "2019-01-01  365.5      288.958333     303.488889     325.883333   \n",
       "2019-02-01  439.2      304.250000     326.877778     360.516667   \n",
       "2019-03-01  416.0      318.558333     343.888889     390.433333   \n",
       "2019-04-01  446.6      336.100000     361.900000     412.200000   \n",
       "2019-05-01  530.7      361.266667     395.155556     437.833333   \n",
       "2019-06-01  674.7      395.583333     443.844444     478.783333   \n",
       "2019-07-01  623.7      423.850000     478.033333     521.816667   \n",
       "2019-08-01  576.2      452.583333     500.177778     544.650000   \n",
       "\n",
       "            sma_forecast3  sma_forecast2  sma_forecast1  \n",
       "Months                                                   \n",
       "2018-01-01            NaN            NaN          217.4  \n",
       "2018-02-01            NaN            NaN          255.7  \n",
       "2018-03-01     239.133333            NaN          244.3  \n",
       "2018-04-01     245.366667            NaN          236.1  \n",
       "2018-05-01     236.366667            NaN          228.7  \n",
       "2018-06-01     242.566667            NaN          262.9  \n",
       "2018-07-01     258.700000            NaN          284.5  \n",
       "2018-08-01     259.600000            NaN          231.4  \n",
       "2018-09-01     250.800000     244.166667          236.5  \n",
       "2018-10-01     261.300000     255.122222          316.0  \n",
       "2018-11-01     309.800000     268.588889          376.9  \n",
       "2018-12-01     373.966667     289.111111          429.0  \n",
       "2019-01-01     390.466667     303.488889          365.5  \n",
       "2019-02-01     411.233333     326.877778          439.2  \n",
       "2019-03-01     406.900000     343.888889          416.0  \n",
       "2019-04-01     433.933333     361.900000          446.6  \n",
       "2019-05-01     464.433333     395.155556          530.7  \n",
       "2019-06-01     550.666667     443.844444          674.7  \n",
       "2019-07-01     609.700000     478.033333          623.7  \n",
       "2019-08-01     624.866667     500.177778          576.2  "
      ]
     },
     "execution_count": 42,
     "metadata": {},
     "output_type": "execute_result"
    }
   ],
   "source": [
    "y_hat_sma.head(20)"
   ]
  },
  {
   "cell_type": "code",
   "execution_count": null,
   "id": "e93c6248",
   "metadata": {},
   "outputs": [],
   "source": []
  }
 ],
 "metadata": {
  "kernelspec": {
   "display_name": "Python 3 (ipykernel)",
   "language": "python",
   "name": "python3"
  },
  "language_info": {
   "codemirror_mode": {
    "name": "ipython",
    "version": 3
   },
   "file_extension": ".py",
   "mimetype": "text/x-python",
   "name": "python",
   "nbconvert_exporter": "python",
   "pygments_lexer": "ipython3",
   "version": "3.9.12"
  }
 },
 "nbformat": 4,
 "nbformat_minor": 5
}
